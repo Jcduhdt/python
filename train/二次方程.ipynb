{
 "cells": [
  {
   "cell_type": "code",
   "execution_count": 1,
   "metadata": {
    "collapsed": true
   },
   "outputs": [],
   "source": [
    "import cmath"
   ]
  },
  {
   "cell_type": "code",
   "execution_count": 2,
   "metadata": {
    "collapsed": false
   },
   "outputs": [
    {
     "name": "stdout",
     "output_type": "stream",
     "text": [
      "输入数字 a: 2\n",
      "输入数字 b: 32\n",
      "输入数字 c: 3\n",
      "结果为 (-15.905694150420949+0j) 和 (-0.09430584957905186+0j)\n"
     ]
    }
   ],
   "source": [
    "# 输入的是二次方程的三个系数\n",
    "a = float(input(\"输入数字 a: \"))\n",
    "b = float(input(\"输入数字 b: \"))\n",
    "c = float(input(\"输入数字 c: \"))\n",
    "\n",
    "# delta\n",
    "d = (b**2) - (4*a*c)\n",
    "\n",
    "# 求解\n",
    "sol1 = (-b-cmath.sqrt(d))/(2*a)\n",
    "sol2 = (-b+cmath.sqrt(d))/(2*a)\n",
    "\n",
    "# 结果\n",
    "print('结果为 {0} 和 {1}'.format(sol1,sol2))"
   ]
  },
  {
   "cell_type": "code",
   "execution_count": null,
   "metadata": {
    "collapsed": true
   },
   "outputs": [],
   "source": []
  }
 ],
 "metadata": {
  "kernelspec": {
   "display_name": "Python [default]",
   "language": "python",
   "name": "python3"
  },
  "language_info": {
   "codemirror_mode": {
    "name": "ipython",
    "version": 3
   },
   "file_extension": ".py",
   "mimetype": "text/x-python",
   "name": "python",
   "nbconvert_exporter": "python",
   "pygments_lexer": "ipython3",
   "version": "3.5.2"
  }
 },
 "nbformat": 4,
 "nbformat_minor": 1
}
