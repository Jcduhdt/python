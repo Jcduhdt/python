{
 "cells": [
  {
   "cell_type": "code",
   "execution_count": 1,
   "metadata": {
    "collapsed": false
   },
   "outputs": [
    {
     "name": "stdout",
     "output_type": "stream",
     "text": [
      "Please input the first number: 468\n",
      "Please input the second number: 348\n",
      "num468 add num348 eaque: 816.0\n"
     ]
    }
   ],
   "source": [
    "num1 = input('Please input the first number: ')\n",
    "num2 = input('Please input the second number: ')\n",
    "\n",
    "# 因为输入的是字符串形式，所以需要float或int来转换\n",
    "result = float(num1) + float(num2)\n",
    "\n",
    "# 为什么必须是0 1 2 因为是.format()元组的原因吧\n",
    "print('num{0} add num{1} eaque: {2}'.format(num1,num2,result))"
   ]
  },
  {
   "cell_type": "code",
   "execution_count": null,
   "metadata": {
    "collapsed": true
   },
   "outputs": [],
   "source": []
  }
 ],
 "metadata": {
  "anaconda-cloud": {},
  "kernelspec": {
   "display_name": "Python [default]",
   "language": "python",
   "name": "python3"
  },
  "language_info": {
   "codemirror_mode": {
    "name": "ipython",
    "version": 3
   },
   "file_extension": ".py",
   "mimetype": "text/x-python",
   "name": "python",
   "nbconvert_exporter": "python",
   "pygments_lexer": "ipython3",
   "version": "3.5.2"
  }
 },
 "nbformat": 4,
 "nbformat_minor": 1
}
