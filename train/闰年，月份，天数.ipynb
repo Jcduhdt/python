{
 "cells": [
  {
   "cell_type": "code",
   "execution_count": 1,
   "metadata": {
    "collapsed": true
   },
   "outputs": [],
   "source": [
    "import calendar"
   ]
  },
  {
   "cell_type": "code",
   "execution_count": 2,
   "metadata": {
    "collapsed": false,
    "scrolled": false
   },
   "outputs": [
    {
     "name": "stdout",
     "output_type": "stream",
     "text": [
      "年份： 2019\n",
      "2019不是闰年\n"
     ]
    }
   ],
   "source": [
    "year = int(input(\"年份： \"))\n",
    "if (year % 4) == 0:\n",
    "    if (year % 100) == 0:\n",
    "        if (year % 400) == 0:\n",
    "            print(\"{0}是闰年\".format(year))  #百年能被400整除的是闰年\n",
    "        else:\n",
    "            print(\"{0}不是闰年\".format(year))\n",
    "    else:\n",
    "        print(\"{0}是闰年\".format(year)) # 非整百年能被4整除的是闰年\n",
    "else:\n",
    "    print(\"{0}不是闰年\".format(year))"
   ]
  },
  {
   "cell_type": "code",
   "execution_count": 3,
   "metadata": {
    "collapsed": false
   },
   "outputs": [
    {
     "name": "stdout",
     "output_type": "stream",
     "text": [
      "False\n"
     ]
    }
   ],
   "source": [
    "# 判断是否为闰年\n",
    "print(calendar.isleap(year))"
   ]
  },
  {
   "cell_type": "code",
   "execution_count": 4,
   "metadata": {
    "collapsed": false
   },
   "outputs": [
    {
     "name": "stdout",
     "output_type": "stream",
     "text": [
      "(0, 30)\n"
     ]
    }
   ],
   "source": [
    "# 每月天数\n",
    "'''\n",
    "输出的是一个元组，第一个元素是所查月份的第一天对应的是星期几（0-6），\n",
    "第二个元素是这个月的天数。\n",
    "该实例输出的意思为 2019 年 4 月份的第一天是星期一，该月总共有 30 天。\n",
    "'''\n",
    "print(calendar.monthrange(2019,4))"
   ]
  },
  {
   "cell_type": "code",
   "execution_count": 5,
   "metadata": {
    "collapsed": false
   },
   "outputs": [
    {
     "name": "stdout",
     "output_type": "stream",
     "text": [
      "[0, 31, 28, 31, 30, 31, 30, 31, 31, 30, 31, 30, 31]\n"
     ]
    }
   ],
   "source": [
    "# 每月对应的天数\n",
    "print(calendar.mdays)"
   ]
  },
  {
   "cell_type": "code",
   "execution_count": 6,
   "metadata": {
    "collapsed": false
   },
   "outputs": [
    {
     "name": "stdout",
     "output_type": "stream",
     "text": [
      "月份： 4\n",
      "     April 2019\n",
      "Mo Tu We Th Fr Sa Su\n",
      " 1  2  3  4  5  6  7\n",
      " 8  9 10 11 12 13 14\n",
      "15 16 17 18 19 20 21\n",
      "22 23 24 25 26 27 28\n",
      "29 30\n",
      "\n"
     ]
    }
   ],
   "source": [
    "month = int(input('月份： '))\n",
    "print(calendar.month(year,month))"
   ]
  }
 ],
 "metadata": {
  "anaconda-cloud": {},
  "kernelspec": {
   "display_name": "Python [default]",
   "language": "python",
   "name": "python3"
  },
  "language_info": {
   "codemirror_mode": {
    "name": "ipython",
    "version": 3
   },
   "file_extension": ".py",
   "mimetype": "text/x-python",
   "name": "python",
   "nbconvert_exporter": "python",
   "pygments_lexer": "ipython3",
   "version": "3.5.2"
  }
 },
 "nbformat": 4,
 "nbformat_minor": 1
}
