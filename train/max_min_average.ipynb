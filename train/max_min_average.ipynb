{
 "cells": [
  {
   "cell_type": "code",
   "execution_count": 1,
   "metadata": {
    "collapsed": true
   },
   "outputs": [],
   "source": [
    "import numpy as np"
   ]
  },
  {
   "cell_type": "code",
   "execution_count": 2,
   "metadata": {
    "collapsed": false
   },
   "outputs": [
    {
     "name": "stdout",
     "output_type": "stream",
     "text": [
      "[29 47 32  1 14 43 18 38 14 10 30 13 28 38 36 32  2 30  8  9  1 44 17  7\n",
      "  1  1 10 41 28 33 30  5 41 13 10 11  2 11 30 25  6 43 42 32 42 20 34 42\n",
      " 21 17 31 45 30 48 28 19 22 36 15 20 34  9 46 48 32 10 32 37 25 37 36  6\n",
      "  3 27 33 24 28 29 18 13 11 41  7 28 25 23 41 23 45 30 23 46 46 23 41  3\n",
      "  1 27  8 11]\n",
      "max_num is:48\n",
      "min_num is:1\n",
      "average_num is:24.56\n"
     ]
    }
   ],
   "source": [
    "def find_max(nums):\n",
    "    max_num = nums[0]\n",
    "    for x in nums:\n",
    "        if x > max_num:\n",
    "            max_num = x\n",
    "    return max_num\n",
    "    \n",
    "def find_min(nums):\n",
    "    min_num = nums[0]\n",
    "    for x in nums:\n",
    "        if x < min_num:\n",
    "            min_num = x\n",
    "    return min_num\n",
    "\n",
    "def average_num(nums):\n",
    "    s = 0\n",
    "    n = len(nums)\n",
    "    for x in nums:\n",
    "        s += x\n",
    "    ave = s/n\n",
    "    return ave\n",
    "\n",
    "if __name__ == \"__main__\":\n",
    "    nums = np.random.randint(0,50,100)\n",
    "    print(nums)\n",
    "    max_num = find_max(nums)\n",
    "    print('max_num is:%s' % max_num)\n",
    "    min_num = find_min(nums)\n",
    "    print('min_num is:%s' % min_num)\n",
    "    ave = average_num(nums)\n",
    "    print('average_num is:%s' % ave)"
   ]
  },
  {
   "cell_type": "code",
   "execution_count": 3,
   "metadata": {
    "collapsed": false
   },
   "outputs": [
    {
     "name": "stdout",
     "output_type": "stream",
     "text": [
      "max:48\n",
      "min:1\n",
      "average:24.56\n"
     ]
    }
   ],
   "source": [
    "print('max:%s'%np.max(nums))\n",
    "print('min:%s'%np.min(nums))\n",
    "print('average:%s'%np.average(nums))"
   ]
  }
 ],
 "metadata": {
  "anaconda-cloud": {},
  "kernelspec": {
   "display_name": "Python [default]",
   "language": "python",
   "name": "python3"
  },
  "language_info": {
   "codemirror_mode": {
    "name": "ipython",
    "version": 3
   },
   "file_extension": ".py",
   "mimetype": "text/x-python",
   "name": "python",
   "nbconvert_exporter": "python",
   "pygments_lexer": "ipython3",
   "version": "3.5.2"
  }
 },
 "nbformat": 4,
 "nbformat_minor": 1
}
