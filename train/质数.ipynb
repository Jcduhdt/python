{
 "cells": [
  {
   "cell_type": "code",
   "execution_count": 2,
   "metadata": {
    "collapsed": false
   },
   "outputs": [
    {
     "name": "stdout",
     "output_type": "stream",
     "text": [
      "2 是质数\n",
      "3 是质数\n",
      "5 是质数\n",
      "7 是质数\n",
      "11 是质数\n",
      "13 是质数\n",
      "17 是质数\n",
      "19 是质数\n",
      "23 是质数\n",
      "29 是质数\n",
      "31 是质数\n",
      "37 是质数\n",
      "41 是质数\n",
      "43 是质数\n",
      "47 是质数\n",
      "53 是质数\n",
      "59 是质数\n",
      "61 是质数\n",
      "67 是质数\n",
      "71 是质数\n",
      "73 是质数\n",
      "79 是质数\n",
      "83 是质数\n",
      "89 是质数\n",
      "97 是质数\n"
     ]
    }
   ],
   "source": [
    "#感觉代码上有问题 懵\n",
    "for x in range(2,100):\n",
    "    for y in range(2,x):\n",
    "        if x%y == 0:\n",
    "            break\n",
    "    else:\n",
    "        print(x,\"是质数\")"
   ]
  },
  {
   "cell_type": "code",
   "execution_count": null,
   "metadata": {
    "collapsed": true
   },
   "outputs": [],
   "source": []
  }
 ],
 "metadata": {
  "anaconda-cloud": {},
  "kernelspec": {
   "display_name": "Python [default]",
   "language": "python",
   "name": "python3"
  },
  "language_info": {
   "codemirror_mode": {
    "name": "ipython",
    "version": 3
   },
   "file_extension": ".py",
   "mimetype": "text/x-python",
   "name": "python",
   "nbconvert_exporter": "python",
   "pygments_lexer": "ipython3",
   "version": "3.5.2"
  }
 },
 "nbformat": 4,
 "nbformat_minor": 1
}
