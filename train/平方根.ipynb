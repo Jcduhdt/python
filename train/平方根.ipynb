{
 "cells": [
  {
   "cell_type": "code",
   "execution_count": 1,
   "metadata": {
    "collapsed": false
   },
   "outputs": [
    {
     "name": "stdout",
     "output_type": "stream",
     "text": [
      "Please input a number: 4354\n",
      "4354.000 的平方根为 65.985\n"
     ]
    }
   ],
   "source": [
    "num = float(input(\"Please input a number: \"))\n",
    "num_sqrt = num ** 0.5\n",
    "print('%0.3f 的平方根为 %0.3f'%(num,num_sqrt))"
   ]
  },
  {
   "cell_type": "code",
   "execution_count": 3,
   "metadata": {
    "collapsed": false
   },
   "outputs": [
    {
     "name": "stdout",
     "output_type": "stream",
     "text": [
      "Please input a number: -8\n",
      "-8 的平方根为0.000+2.828j\n"
     ]
    }
   ],
   "source": [
    "import cmath\n",
    "# cmath(complex math)\n",
    "num1 = int(input(\"Please input a number: \"))\n",
    "num1_sqrt = cmath.sqrt(num1)\n",
    "print('{0} 的平方根为{1:0.3f}+{2:0.3f}j'.format(num1,num1_sqrt.real,num1_sqrt.imag))"
   ]
  },
  {
   "cell_type": "code",
   "execution_count": 5,
   "metadata": {
    "collapsed": false
   },
   "outputs": [
    {
     "name": "stdout",
     "output_type": "stream",
     "text": [
      "请输入复数的实部：168.13\n",
      "请输入复数的虚部：3.161\n",
      "168.130+3.161j 的平方根为12.967+0.122j\n"
     ]
    }
   ],
   "source": [
    "a = float(input(\"请输入复数的实部：\"))\n",
    "b = float(input(\"请输入复数的虚部：\"))\n",
    "\n",
    "cpx_sqrt = cmath.sqrt(complex(a,b))\n",
    "# 这个输出有点问题，+号\n",
    "print('{0:0.3f}+{1:0.3f}j 的平方根为{2:0.3f}+{3:0.3f}j'.format(a,b,cpx_sqrt.real,cpx_sqrt.imag))"
   ]
  },
  {
   "cell_type": "code",
   "execution_count": null,
   "metadata": {
    "collapsed": true
   },
   "outputs": [],
   "source": []
  }
 ],
 "metadata": {
  "kernelspec": {
   "display_name": "Python [default]",
   "language": "python",
   "name": "python3"
  },
  "language_info": {
   "codemirror_mode": {
    "name": "ipython",
    "version": 3
   },
   "file_extension": ".py",
   "mimetype": "text/x-python",
   "name": "python",
   "nbconvert_exporter": "python",
   "pygments_lexer": "ipython3",
   "version": "3.5.2"
  }
 },
 "nbformat": 4,
 "nbformat_minor": 1
}
