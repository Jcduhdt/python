{
 "cells": [
  {
   "cell_type": "code",
   "execution_count": 1,
   "metadata": {
    "collapsed": true
   },
   "outputs": [],
   "source": [
    "#博主url https://blog.csdn.net/c406495762/article/details/69817490\n",
    "\n",
    "#Cookie，指某些网站为了辨别用户身份、进行session跟踪而储存在用户本地终端上的数据（通常经过加密)\n",
    "#有的网站需要登录才能访问\n",
    "#使用Cookie和使用代理IP一样，也需要创建一个自己的opener。在HTTP包中，提供了cookiejar模块，用于提供对Cookie的支持\n",
    "#创建一个带有cookie的opener，在访问登录的URL时，将登录后的cookie保存下来，然后利用这个cookie来访问其他网址。查看登录之后才能看到的信息。\n",
    "from urllib import request\n",
    "from http import cookiejar"
   ]
  },
  {
   "cell_type": "code",
   "execution_count": 2,
   "metadata": {
    "collapsed": false
   },
   "outputs": [],
   "source": [
    "if __name__ == \"__main__\":\n",
    "    #声明一个Cookiejar对象实例来保存cookie\n",
    "    cookie = cookiejar.CookieJar()\n",
    "    #利用urllib.request库的HTTPCooeProcessor对象来创建cookie处理器，也就是CookieHandler\n",
    "    handler = request.HTTPCookieProcessor(cookie)\n",
    "    #通过CookieHandler创建opener\n",
    "    opener = request.build_opener(handler)\n",
    "    #此处的open方法打开网页\n",
    "    response = opener.open('http://www.baidu.com')\n",
    "    #打印cookie信息\n",
    "    #似乎涉及到隐私？ 看博主都打码了 就没显示\n",
    "    for item in cookie:\n",
    "        print('Name = %s'% item.name)\n",
    "        print('Value = %s'% item.value)"
   ]
  },
  {
   "cell_type": "code",
   "execution_count": null,
   "metadata": {
    "collapsed": true
   },
   "outputs": [],
   "source": []
  }
 ],
 "metadata": {
  "anaconda-cloud": {},
  "kernelspec": {
   "display_name": "Python [default]",
   "language": "python",
   "name": "python3"
  },
  "language_info": {
   "codemirror_mode": {
    "name": "ipython",
    "version": 3
   },
   "file_extension": ".py",
   "mimetype": "text/x-python",
   "name": "python",
   "nbconvert_exporter": "python",
   "pygments_lexer": "ipython3",
   "version": "3.5.2"
  }
 },
 "nbformat": 4,
 "nbformat_minor": 1
}
