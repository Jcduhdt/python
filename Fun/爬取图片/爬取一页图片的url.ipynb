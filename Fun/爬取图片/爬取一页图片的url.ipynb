{
 "cells": [
  {
   "cell_type": "code",
   "execution_count": 1,
   "metadata": {
    "collapsed": false
   },
   "outputs": [],
   "source": [
    "import requests\n",
    "from bs4 import BeautifulSoup"
   ]
  },
  {
   "cell_type": "code",
   "execution_count": 2,
   "metadata": {
    "collapsed": false
   },
   "outputs": [
    {
     "name": "stdout",
     "output_type": "stream",
     "text": [
      "['卡通帅哥睡觉萌拍照=http://www.shuaia.net/dongman/2018-09-01/15384.html', '青春阳光帅气帅哥迷人卡通=http://www.shuaia.net/dongman/2018-08-30/15354.html', '二次元帅哥=http://www.shuaia.net/dongman/2018-08-20/15136.html', '人偶帅哥=http://www.shuaia.net/dongman/2018-08-18/15120.html', '妹控君=http://www.shuaia.net/dongman/2018-08-16/15098.html', '美男许墨=http://www.shuaia.net/dongman/2018-08-15/15075.html', '屌丝道士帅美男=http://www.shuaia.net/dongman/2018-07-28/15030.html', '手绘现代男子=http://www.shuaia.net/dongman/2018-07-05/15005.html', '手绘古装美男=http://www.shuaia.net/dongman/2018-06-14/14990.html', '盗墓笔记#张起灵#男神秀腹肌系列=http://www.shuaia.net/dongman/2018-05-29/14981.html', '伤感的动漫帅哥=http://www.shuaia.net/dongman/2018-05-18/14965.html', '二次元白发花美男=http://www.shuaia.net/dongman/2018-05-16/14960.html', '人物 CG 插画 手绘 意境 唯美 「画师：委鬼」=http://www.shuaia.net/dongman/2018-05-09/14959.html', '仙剑奇侠传4慕容紫英=http://www.shuaia.net/dongman/2018-05-03/14952.html', '手绘动漫帅哥图片=http://www.shuaia.net/dongman/2018-04-27/14947.html', '九之濑遥图片合集 萌美男=http://www.shuaia.net/dongman/2018-04-22/14936.html', '篮球美少年赤司征十郎=http://www.shuaia.net/dongman/2017-06-12/1299.html', '鹤丸国永二次元动漫帅哥=http://www.shuaia.net/dongman/2017-05-23/1296.html', '《元气囝仔》半田清舟=http://www.shuaia.net/dongman/2017-05-18/1293.html', '超酷的金发美男=http://www.shuaia.net/dongman/2017-05-02/1285.html', '天才灌篮少年哀川和彦=http://www.shuaia.net/dongman/2017-04-26/1276.html', '浮生沧月=http://www.shuaia.net/dongman/2017-04-01/1270.html', '古风美男的一世情深=http://www.shuaia.net/dongman/2017-02-16/1266.html', '《东京食尸鬼》金木研=http://www.shuaia.net/dongman/2017-01-10/1255.html', '动漫帅哥图片帅气迷人=http://www.shuaia.net/dongman/2016-12-20/1243.html']\n"
     ]
    }
   ],
   "source": [
    "if __name__ == '__main__':\n",
    "    url = 'http://www.shuaia.net/dongman/'\n",
    "    headers = {'User-Agent': 'Mozilla/5.0 (Windows NT 10.0; Win64; x64) AppleWebKit/537.36 (KHTML, like Gecko) Chrome/64.0.3282.140 Safari/537.36 Edge/17.17134'}\n",
    "    req = requests.get(url = url,headers = headers)\n",
    "    req.encoding='utf-8'\n",
    "    html = req.text\n",
    "    soup = BeautifulSoup(html,'html.parser')\n",
    "    target = soup.find_all(class_='item-img')\n",
    "    list_url = []\n",
    "    for each in target:\n",
    "        list_url.append(each.img.get('alt') + '=' + each.get('href'))\n",
    "    print(list_url)"
   ]
  },
  {
   "cell_type": "code",
   "execution_count": null,
   "metadata": {
    "collapsed": true
   },
   "outputs": [],
   "source": []
  }
 ],
 "metadata": {
  "anaconda-cloud": {},
  "kernelspec": {
   "display_name": "Python [default]",
   "language": "python",
   "name": "python3"
  },
  "language_info": {
   "codemirror_mode": {
    "name": "ipython",
    "version": 3
   },
   "file_extension": ".py",
   "mimetype": "text/x-python",
   "name": "python",
   "nbconvert_exporter": "python",
   "pygments_lexer": "ipython3",
   "version": "3.5.2"
  }
 },
 "nbformat": 4,
 "nbformat_minor": 1
}
