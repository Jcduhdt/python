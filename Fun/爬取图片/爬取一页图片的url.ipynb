{
 "cells": [
  {
   "cell_type": "code",
   "execution_count": 1,
   "metadata": {
    "collapsed": false
   },
   "outputs": [],
   "source": [
    "import requests\n",
    "from bs4 import BeautifulSoup"
   ]
  },
  {
   "cell_type": "code",
   "execution_count": 2,
   "metadata": {
    "collapsed": false
   },
   "outputs": [
    {
     "name": "stdout",
     "output_type": "stream",
     "text": [
      "['身材匀称，极具诱惑力的美女=http://www.shuaia.net/meinv/2018-10-10/16172.html', '粉红咖啡店里的网红妹妹=http://www.shuaia.net/meinv/2018-10-10/16171.html', '就是这样的裹臀裙最S=http://www.shuaia.net/meinv/2018-10-10/16170.html', '柔顺长发的少女写真，笑容好甜！=http://www.shuaia.net/meinv/2018-10-10/16169.html', '小女人的蓝眼魅惑=http://www.shuaia.net/meinv/2018-10-10/16168.html', '清凉夏日的允珠姐姐=http://www.shuaia.net/meinv/2018-10-10/16167.html', '运动过后的美少女=http://www.shuaia.net/meinv/2018-10-10/16166.html', '清新甜美，白皙俏皮优雅若仙女生=http://www.shuaia.net/meinv/2018-10-10/16165.html', '她回头的那一刻，我醉了=http://www.shuaia.net/meinv/2018-10-10/16164.html', '街拍：小姐姐绝对是前凸后翘的完美典范，一头长发更显魅力！=http://www.shuaia.net/meinv/2018-10-10/16163.html', '白丝美足，牙套学生妹室内可爱甜美！=http://www.shuaia.net/meinv/2018-10-10/16162.html', '白裙居家小姐姐=http://www.shuaia.net/meinv/2018-10-10/16161.html', '吊带美女的居家诱惑！=http://www.shuaia.net/meinv/2018-10-10/16160.html', '白种女人=http://www.shuaia.net/meinv/2018-10-04/16137.html', '中国的美女=http://www.shuaia.net/meinv/2018-10-04/16136.html', '黑丝美女=http://www.shuaia.net/meinv/2018-10-04/16135.html', '墨镜美女=http://www.shuaia.net/meinv/2018-10-04/16134.html', '美女手机壁纸=http://www.shuaia.net/meinv/2018-10-04/16133.html', '美女壁纸=http://www.shuaia.net/meinv/2018-10-04/16132.html', '健硕美女=http://www.shuaia.net/meinv/2018-10-04/16131.html', '一字马诱惑=http://www.shuaia.net/meinv/2018-10-04/16130.html', '一字马妹子图片=http://www.shuaia.net/meinv/2018-10-04/16129.html', '职业妹子=http://www.shuaia.net/meinv/2018-10-04/16128.html', '美腿=http://www.shuaia.net/meinv/2018-10-04/16127.html', '双胞胎美女=http://www.shuaia.net/meinv/2018-10-04/16126.html']\n"
     ]
    }
   ],
   "source": [
    "if __name__ == '__main__':\n",
    "    url = 'http://www.shuaia.net/meinv/'\n",
    "    headers = {'User-Agent': 'Mozilla/5.0 (Windows NT 10.0; Win64; x64) AppleWebKit/537.36 (KHTML, like Gecko) Chrome/64.0.3282.140 Safari/537.36 Edge/17.17134'}\n",
    "    req = requests.get(url = url,headers = headers)\n",
    "    req.encoding='utf-8'\n",
    "    html = req.text\n",
    "    soup = BeautifulSoup(html,'html.parser')\n",
    "    target = soup.find_all(class_='item-img')\n",
    "    list_url = []\n",
    "    for each in target:\n",
    "        list_url.append(each.img.get('alt') + '=' + each.get('href'))\n",
    "    print(list_url)"
   ]
  },
  {
   "cell_type": "code",
   "execution_count": null,
   "metadata": {
    "collapsed": true
   },
   "outputs": [],
   "source": []
  }
 ],
 "metadata": {
  "anaconda-cloud": {},
  "kernelspec": {
   "display_name": "Python [default]",
   "language": "python",
   "name": "python3"
  },
  "language_info": {
   "codemirror_mode": {
    "name": "ipython",
    "version": 3
   },
   "file_extension": ".py",
   "mimetype": "text/x-python",
   "name": "python",
   "nbconvert_exporter": "python",
   "pygments_lexer": "ipython3",
   "version": "3.5.2"
  }
 },
 "nbformat": 4,
 "nbformat_minor": 1
}
