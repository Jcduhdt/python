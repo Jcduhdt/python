{
 "cells": [
  {
   "cell_type": "code",
   "execution_count": 1,
   "metadata": {
    "collapsed": true
   },
   "outputs": [],
   "source": [
    "import requests\n",
    "from bs4 import BeautifulSoup\n",
    "from urllib.request import urlretrieve\n",
    "import os"
   ]
  },
  {
   "cell_type": "code",
   "execution_count": 2,
   "metadata": {
    "collapsed": false
   },
   "outputs": [
    {
     "name": "stdout",
     "output_type": "stream",
     "text": [
      "下载完成！\n",
      "http://ww3.sinaimg.cn/large/0073tLPGgy1fvsj14lgy3j31kw11aqv7.jpg\n"
     ]
    }
   ],
   "source": [
    "if __name__ == \"__main__\":\n",
    "    target_url = 'http://www.shuaia.net/meinv/2018-10-01/16065.html'\n",
    "    filename = '养眼' + '.jpg'\n",
    "    headers = {\n",
    "        'User-Agent': 'Mozilla/5.0 (Windows NT 10.0; Win64; x64) AppleWebKit/537.36 (KHTML, like Gecko) Chrome/64.0.3282.140 Safari/537.36 Edge/17.17134'\n",
    "    }\n",
    "    img_req = requests.get(url = target_url,headers = headers)\n",
    "    img_req.encoding = 'utf-8'\n",
    "    img_html = img_req.text\n",
    "    img_soup_1 = BeautifulSoup(img_html,'html.parser')\n",
    "    img_url = img_soup_1.find_all('div',class_ = 'wr-single-content-list')\n",
    "    img_soup_2 = BeautifulSoup(str(img_url),'html.parser')\n",
    "    #教程的url拼接是错的，不需要前面那个\n",
    "    img_url = img_soup_2.div.img.get('src')\n",
    "    if 'images' not in os.listdir():\n",
    "        os.makedirs('images')\n",
    "    urlretrieve(url = img_url,filename = 'images/' + filename)\n",
    "    print('下载完成！')\n",
    "    print(img_url)"
   ]
  },
  {
   "cell_type": "code",
   "execution_count": null,
   "metadata": {
    "collapsed": true
   },
   "outputs": [],
   "source": []
  }
 ],
 "metadata": {
  "anaconda-cloud": {},
  "kernelspec": {
   "display_name": "Python [default]",
   "language": "python",
   "name": "python3"
  },
  "language_info": {
   "codemirror_mode": {
    "name": "ipython",
    "version": 3
   },
   "file_extension": ".py",
   "mimetype": "text/x-python",
   "name": "python",
   "nbconvert_exporter": "python",
   "pygments_lexer": "ipython3",
   "version": "3.5.2"
  }
 },
 "nbformat": 4,
 "nbformat_minor": 1
}
