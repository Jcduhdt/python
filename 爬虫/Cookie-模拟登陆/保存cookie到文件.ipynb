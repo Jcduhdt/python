{
 "cells": [
  {
   "cell_type": "code",
   "execution_count": 1,
   "metadata": {
    "collapsed": true
   },
   "outputs": [],
   "source": [
    "from urllib import request\n",
    "from http import cookiejar"
   ]
  },
  {
   "cell_type": "code",
   "execution_count": 2,
   "metadata": {
    "collapsed": true
   },
   "outputs": [],
   "source": [
    "if __name__ == \"__main__\":\n",
    "    #设置保存cookie的文件，同级目录下的cookie.txt\n",
    "    filename = 'cookie.txt'\n",
    "    #声明一个MozillaCookieJar对象实例来保存cookie，之后写入文件\n",
    "    cookie = cookiejar.MozillaCookieJar(filename)\n",
    "    handler = request.HTTPCookieProcessor(cookie)\n",
    "    opener = request.build_opener(handler)\n",
    "    response = opener.open('http://www.baidu.com')\n",
    "    #ignore_discard的意思是即使cookies将被丢弃也将它保存下来\n",
    "    #ignore_expires的意思是如果在该文件中cookies已经存在，则覆盖原文件写入\n",
    "    cookie.save(ignore_discard = True,ignore_expires = True)"
   ]
  },
  {
   "cell_type": "code",
   "execution_count": null,
   "metadata": {
    "collapsed": true
   },
   "outputs": [],
   "source": []
  }
 ],
 "metadata": {
  "kernelspec": {
   "display_name": "Python [default]",
   "language": "python",
   "name": "python3"
  },
  "language_info": {
   "codemirror_mode": {
    "name": "ipython",
    "version": 3
   },
   "file_extension": ".py",
   "mimetype": "text/x-python",
   "name": "python",
   "nbconvert_exporter": "python",
   "pygments_lexer": "ipython3",
   "version": "3.5.2"
  }
 },
 "nbformat": 4,
 "nbformat_minor": 1
}
