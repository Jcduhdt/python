{
 "cells": [
  {
   "cell_type": "code",
   "execution_count": 1,
   "metadata": {
    "collapsed": true
   },
   "outputs": [],
   "source": [
    "import requests\n",
    "from bs4 import BeautifulSoup"
   ]
  },
  {
   "cell_type": "code",
   "execution_count": 2,
   "metadata": {
    "collapsed": false
   },
   "outputs": [
    {
     "name": "stdout",
     "output_type": "stream",
     "text": [
      "['卡通帅哥睡觉萌拍照=http://www.shuaia.net/dongman/2018-09-01/15384.html', '青春阳光帅气帅哥迷人卡通=http://www.shuaia.net/dongman/2018-08-30/15354.html', '二次元帅哥=http://www.shuaia.net/dongman/2018-08-20/15136.html', '人偶帅哥=http://www.shuaia.net/dongman/2018-08-18/15120.html', '妹控君=http://www.shuaia.net/dongman/2018-08-16/15098.html', '美男许墨=http://www.shuaia.net/dongman/2018-08-15/15075.html', '屌丝道士帅美男=http://www.shuaia.net/dongman/2018-07-28/15030.html', '手绘现代男子=http://www.shuaia.net/dongman/2018-07-05/15005.html', '手绘古装美男=http://www.shuaia.net/dongman/2018-06-14/14990.html', '盗墓笔记#张起灵#男神秀腹肌系列=http://www.shuaia.net/dongman/2018-05-29/14981.html', '伤感的动漫帅哥=http://www.shuaia.net/dongman/2018-05-18/14965.html', '二次元白发花美男=http://www.shuaia.net/dongman/2018-05-16/14960.html', '人物 CG 插画 手绘 意境 唯美 「画师：委鬼」=http://www.shuaia.net/dongman/2018-05-09/14959.html', '仙剑奇侠传4慕容紫英=http://www.shuaia.net/dongman/2018-05-03/14952.html', '手绘动漫帅哥图片=http://www.shuaia.net/dongman/2018-04-27/14947.html', '九之濑遥图片合集 萌美男=http://www.shuaia.net/dongman/2018-04-22/14936.html', '篮球美少年赤司征十郎=http://www.shuaia.net/dongman/2017-06-12/1299.html', '鹤丸国永二次元动漫帅哥=http://www.shuaia.net/dongman/2017-05-23/1296.html', '《元气囝仔》半田清舟=http://www.shuaia.net/dongman/2017-05-18/1293.html', '超酷的金发美男=http://www.shuaia.net/dongman/2017-05-02/1285.html', '天才灌篮少年哀川和彦=http://www.shuaia.net/dongman/2017-04-26/1276.html', '浮生沧月=http://www.shuaia.net/dongman/2017-04-01/1270.html', '古风美男的一世情深=http://www.shuaia.net/dongman/2017-02-16/1266.html', '《东京食尸鬼》金木研=http://www.shuaia.net/dongman/2017-01-10/1255.html', '动漫帅哥图片帅气迷人=http://www.shuaia.net/dongman/2016-12-20/1243.html', '手绘动漫冷酷制服男与毒蛇=http://www.shuaia.net/dongman/2016-12-06/1236.html', '受伤的羽村翔=http://www.shuaia.net/dongman/2016-11-24/1230.html', '剑客=http://www.shuaia.net/dongman/2016-11-18/1229.html', '动漫男生与少女清新阳光高清图片=http://www.shuaia.net/dongman/2016-11-07/1216.html', '绘画动漫版鹿晗=http://www.shuaia.net/dongman/2016-10-28/1208.html', '二次元穿军装的美男子=http://www.shuaia.net/dongman/2016-10-25/1206.html', '滑头鬼之孙奴良组首无=http://www.shuaia.net/dongman/2016-10-19/1201.html', '伏见猿比古=http://www.shuaia.net/dongman/2016-09-28/1191.html', '元气少女缘结神巴卫=http://www.shuaia.net/dongman/2016-09-27/1187.html', '倾尽天下自悠然=http://www.shuaia.net/dongman/2016-09-23/1183.html', '手绘《火影忍者》卡卡西=http://www.shuaia.net/dongman/2016-09-21/1176.html', '济济彬彬=http://www.shuaia.net/dongman/2016-09-10/1173.html', '《薄樱鬼》纯血鬼族风间千景=http://www.shuaia.net/dongman/2016-08-24/1168.html', 'Fate Zero人物=http://www.shuaia.net/dongman/2016-07-22/1163.html', '银魂-土方十四郎=http://www.shuaia.net/dongman/2016-07-14/1161.html', '古剑奇谭2夏夷则=http://www.shuaia.net/dongman/2016-06-20/1144.html', '天下第一大剑豪鹰眼米霍克=http://www.shuaia.net/dongman/2016-06-08/1141.html', '学习烹饪的动漫美男=http://www.shuaia.net/dongman/2016-05-21/1135.html', '无头骑士异闻录折原临也=http://www.shuaia.net/dongman/2016-05-21/1134.html', '传统美男子既威武雄壮又温润如玉=http://www.shuaia.net/dongman/2016-05-17/1130.html', '学习烹饪的动漫美男=http://www.shuaia.net/dongman/2016-05-09/1121.html', '动漫《Fate zero》人物言峰绮礼=http://www.shuaia.net/dongman/2016-05-04/1120.html', '绘画动漫版鹿晗=http://www.shuaia.net/dongman/2016-05-02/1114.html', '孤独是你必修课=http://www.shuaia.net/dongman/2016-04-16/1105.html', '济济彬彬=http://www.shuaia.net/dongman/2016-04-11/1102.html', '一剑霜寒=http://www.shuaia.net/dongman/2016-04-05/1093.html', '二次元绘画帅气的学长=http://www.shuaia.net/dongman/2016-03-16/1075.html', '动漫《终结的炽天使》君月士方=http://www.shuaia.net/dongman/2016-03-14/1074.html', '动漫《ALDNOAH-ZERO》男主斯雷因·特洛耶特=http://www.shuaia.net/dongman/2016-03-11/1065.html', '手绘动漫《终结的炽天使》费里德·巴特利=http://www.shuaia.net/dongman/2016-03-10/1061.html', '兄弟战争=http://www.shuaia.net/dongman/2016-03-03/1060.html', '心跳回忆樱井琉夏=http://www.shuaia.net/dongman/2016-02-28/1050.html', '吸血鬼骑士男主角锥生零=http://www.shuaia.net/dongman/2016-02-26/1047.html', '《海贼王》CP9成员卡库=http://www.shuaia.net/dongman/2016-02-24/1043.html', '古风美男的一世情深=http://www.shuaia.net/dongman/2016-02-20/1042.html', '七宿=http://www.shuaia.net/dongman/2016-01-30/1028.html', '美男风华=http://www.shuaia.net/dongman/2016-01-28/1024.html', '《东京食尸鬼》金木研=http://www.shuaia.net/dongman/2016-01-27/1017.html', '唯美的都市小潮男=http://www.shuaia.net/dongman/2016-01-26/1012.html', '二次元帅哥酒色诱惑=http://www.shuaia.net/dongman/2016-01-25/1008.html', '歌之王子殿下=http://www.shuaia.net/dongman/2016-01-23/1003.html', '刀剑乱舞大俱利伽罗=http://www.shuaia.net/dongman/2016-01-18/995.html', '吸血鬼骑士男主角锥生零=http://www.shuaia.net/dongman/2016-01-13/987.html', '刀剑乱舞漂亮迷人的加州清光=http://www.shuaia.net/dongman/2016-01-12/982.html', '银魂白夜叉坂田银时=http://www.shuaia.net/dongman/2016-01-10/979.html', '《火影忍者》帅气十足的鸣人=http://www.shuaia.net/dongman/2016-01-08/976.html', '眼神犀利的犬夜叉充满霸气=http://www.shuaia.net/dongman/2016-01-07/970.html', '雪花下的眼镜暖男=http://www.shuaia.net/dongman/2016-01-04/966.html', '长发飞舞=http://www.shuaia.net/dongman/2016-01-01/958.html', '黑子的篮球赤司征十郎=http://www.shuaia.net/dongman/2015-12-29/953.html', '兄弟战争二次元插画=http://www.shuaia.net/dongman/2015-12-22/946.html', '《阳炎project》鹿野修哉=http://www.shuaia.net/dongman/2015-12-20/944.html', '漫画兵哥哥 当兵扛枪=http://www.shuaia.net/dongman/2015-12-15/937.html', '无皇刃谭武士无名=http://www.shuaia.net/dongman/2015-12-09/930.html', '美男盗贼CG插画=http://www.shuaia.net/dongman/2015-12-06/923.html', '手绘《火影忍者》鸣人=http://www.shuaia.net/dongman/2015-12-03/920.html', '萌萌哒百里屠苏=http://www.shuaia.net/dongman/2015-11-21/907.html', '动漫纹身男=http://www.shuaia.net/dongman/2015-11-17/902.html', '“网球王子”里的帅哥=http://www.shuaia.net/dongman/2015-11-14/897.html', '银魂-土方十四郎=http://www.shuaia.net/dongman/2015-11-13/896.html', '公子无双，温润如玉=http://www.shuaia.net/dongman/2015-11-11/890.html', '动漫里的贵族王子=http://www.shuaia.net/dongman/2015-11-10/884.html', '动漫之轻吟浅唱=http://www.shuaia.net/dongman/2015-11-06/878.html', '海贼王路飞=http://www.shuaia.net/dongman/2015-11-05/872.html', '黄金圣斗士水瓶座卡妙=http://www.shuaia.net/dongman/2015-11-04/867.html', 'DNF帅气的鬼剑士=http://www.shuaia.net/dongman/2015-11-03/863.html', '刀剑乱舞大俱利伽罗=http://www.shuaia.net/dongman/2015-10-29/846.html', '与你一起赏雪=http://www.shuaia.net/dongman/2015-10-21/826.html', '倾我一生一世=http://www.shuaia.net/dongman/2015-10-20/822.html', '泪眼婆娑的少年=http://www.shuaia.net/dongman/2015-10-19/820.html', '歌之王子殿下=http://www.shuaia.net/dongman/2015-10-14/806.html', '丹顶宜承日=http://www.shuaia.net/dongman/2015-10-09/796.html', '绘画超帅的军装男=http://www.shuaia.net/dongman/2015-10-08/793.html', '界塚伊奈帆=http://www.shuaia.net/dongman/2015-09-29/787.html', '七龙珠，悟空=http://www.shuaia.net/dongman/2015-09-27/780.html', '孤独是你必修课=http://www.shuaia.net/dongman/2015-09-26/776.html', '心跳回忆男主樱井琉夏=http://www.shuaia.net/dongman/2015-09-24/770.html', '刀剑乱舞漂亮迷人的加州清光=http://www.shuaia.net/dongman/2015-09-23/766.html', '明星少年动漫图片=http://www.shuaia.net/dongman/2015-09-21/759.html', '威武霸气的但丁=http://www.shuaia.net/dongman/2015-09-19/751.html', '白鸽与少年=http://www.shuaia.net/dongman/2015-09-15/733.html', '银魂坂田银时=http://www.shuaia.net/dongman/2015-09-13/725.html', '与你作别，不问曾经伤痛几何=http://www.shuaia.net/dongman/2015-09-11/717.html', '红心骑士=http://www.shuaia.net/dongman/2015-09-10/712.html', '不良道海城悠巳=http://www.shuaia.net/dongman/2015-09-03/685.html', '重生三国人物原画=http://www.shuaia.net/dongman/2015-09-02/678.html', '《free!》男主角橘真琴=http://www.shuaia.net/dongman/2015-09-01/676.html', '二次元好少年主题插画=http://www.shuaia.net/dongman/2015-08-30/671.html', '魔幻气功型男插画=http://www.shuaia.net/dongman/2015-08-27/659.html', '男法师精美CG=http://www.shuaia.net/dongman/2015-08-24/648.html', '剑网3傲血天策=http://www.shuaia.net/dongman/2015-08-20/640.html', '静坐在雷雨中的猛男=http://www.shuaia.net/dongman/2015-08-17/626.html', '古风美男的一世情深=http://www.shuaia.net/dongman/2015-07-31/613.html', '三生阴晴圆缺，一朝悲欢离合=http://www.shuaia.net/dongman/2015-07-30/607.html', '动漫帅哥界冢伊奈帆=http://www.shuaia.net/dongman/2015-07-28/599.html', '古装花美男=http://www.shuaia.net/dongman/2015-07-27/592.html', '白发古风美男=http://www.shuaia.net/dongman/2015-07-24/574.html', '二次元古风花美男=http://www.shuaia.net/dongman/2015-07-22/550.html', '黑子的篮球=http://www.shuaia.net/dongman/2015-07-22/547.html', '男色当前=http://www.shuaia.net/dongman/2015-07-20/538.html', '屹立在雪中的美男子=http://www.shuaia.net/dongman/2015-07-18/521.html', '逝雪深，笑意浅=http://www.shuaia.net/dongman/2015-07-17/514.html', '海贼王人物艾斯=http://www.shuaia.net/dongman/2015-07-17/510.html', '歌之王子殿下一之濑时矢=http://www.shuaia.net/dongman/2015-07-16/498.html', '古色古香=http://www.shuaia.net/dongman/2015-07-15/486.html', '飘逸美腻=http://www.shuaia.net/dongman/2015-07-13/471.html', '玄霸九天=http://www.shuaia.net/dongman/2015-07-11/462.html', '花俏的公子=http://www.shuaia.net/dongman/2015-07-07/444.html', '二次元黑白美男=http://www.shuaia.net/dongman/2015-07-06/436.html', '绝恋如此唯美=http://www.shuaia.net/dongman/2015-07-06/435.html', '进击的美男=http://www.shuaia.net/dongman/2015-07-02/425.html', '黑色禁药美人啊美人=http://www.shuaia.net/dongman/2015-07-01/422.html', '蓝色妖姬=http://www.shuaia.net/dongman/2015-06-30/414.html', '诛仙主角张小凡=http://www.shuaia.net/dongman/2015-06-30/413.html', '万花=http://www.shuaia.net/dongman/2015-06-26/408.html', '白鸽与少年=http://www.shuaia.net/dongman/2015-06-23/397.html', '家庭教师云雀恭弥=http://www.shuaia.net/dongman/2015-06-22/393.html', '重生之都市纵横=http://www.shuaia.net/dongman/2015-06-14/374.html', '荒野邪少=http://www.shuaia.net/dongman/2015-06-13/368.html', '六界言灵师=http://www.shuaia.net/dongman/2015-06-13/367.html', '倾尽天下自悠然=http://www.shuaia.net/dongman/2015-06-13/363.html', '刀剑乱舞一期一振=http://www.shuaia.net/dongman/2015-06-11/354.html', '白雪飘飘美男子=http://www.shuaia.net/dongman/2015-06-10/350.html', '二次元帅哥=http://www.shuaia.net/dongman/2015-06-10/349.html', '棱角分明的冷俊=http://www.shuaia.net/dongman/2015-06-08/339.html', '吸血鬼，逆卷家族=http://www.shuaia.net/dongman/2015-06-07/335.html', '弱水三千，怎敌你回眸一笑=http://www.shuaia.net/dongman/2015-06-05/325.html', '明星少年=http://www.shuaia.net/dongman/2015-06-05/324.html', '帅哥寂寞的样子=http://www.shuaia.net/dongman/2015-05-05/266.html', '那些性格怪异的美男之裘达尔=http://www.shuaia.net/dongman/2015-04-11/237.html', '放电无所不在=http://www.shuaia.net/dongman/2015-03-23/216.html', '没钱吃饭,不开心=http://www.shuaia.net/dongman/2015-03-23/215.html', '夜刀神狗朗=http://www.shuaia.net/dongman/2015-02-03/171.html', '你是泉新一吗=http://www.shuaia.net/dongman/2015-01-30/160.html', '动漫【吸血鬼骑士】里的帅哥枢大人=http://www.shuaia.net/dongman/2015-01-27/149.html', '动漫英俊帅哥 动漫帅哥图集=http://www.shuaia.net/dongman/2015-01-26/144.html', '九之濑遥=http://www.shuaia.net/dongman/2015-01-25/139.html']\n"
     ]
    }
   ],
   "source": [
    "if __name__ == '__main__':\n",
    "    list_url = []\n",
    "    for num in range(1,10):\n",
    "        if num == 1:\n",
    "            url = 'http://www.shuaia.net/dongman/index.html'\n",
    "        else:\n",
    "            url = 'http://www.shuaia.net/dongman/index_%s.html' % num\n",
    "        headers = {\n",
    "            'User-Agent': 'Mozilla/5.0 (Windows NT 10.0; Win64; x64) AppleWebKit/537.36 (KHTML, like Gecko) Chrome/64.0.3282.140 Safari/537.36 Edge/17.17134'\n",
    "        }\n",
    "        req = requests.get(url = url,headers = headers)\n",
    "        req.encoding = 'utf8'\n",
    "        html = req.text\n",
    "        soup = BeautifulSoup(html,'html.parser')\n",
    "        target_url = soup.find_all(class_='item-img')\n",
    "        \n",
    "        for each in target_url:\n",
    "            list_url.append(each.img.get('alt') + '=' + each.get('href'))\n",
    "    print(list_url)"
   ]
  },
  {
   "cell_type": "code",
   "execution_count": null,
   "metadata": {
    "collapsed": true
   },
   "outputs": [],
   "source": []
  }
 ],
 "metadata": {
  "anaconda-cloud": {},
  "kernelspec": {
   "display_name": "Python [default]",
   "language": "python",
   "name": "python3"
  },
  "language_info": {
   "codemirror_mode": {
    "name": "ipython",
    "version": 3
   },
   "file_extension": ".py",
   "mimetype": "text/x-python",
   "name": "python",
   "nbconvert_exporter": "python",
   "pygments_lexer": "ipython3",
   "version": "3.5.2"
  }
 },
 "nbformat": 4,
 "nbformat_minor": 1
}
