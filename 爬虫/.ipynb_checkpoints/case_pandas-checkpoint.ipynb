{
 "cells": [
  {
   "cell_type": "code",
   "execution_count": null,
   "metadata": {},
   "outputs": [],
   "source": [
    "# 旅游数据的分析与变形\n",
    "# 读取自由行路线数据表\n",
    "import pandas as pd\n",
    "df = pd.read_csv('E:/dataset/pandas_data/qunar_free_trip.csv',delimiter=\",\",encoding=\"utf8\",header=0)\n",
    "df.head()"
   ]
  },
  {
   "cell_type": "code",
   "execution_count": null,
   "metadata": {},
   "outputs": [],
   "source": [
    "# 按出发地、目的地分组查看价格均值\n",
    "df['价格'].groupby([df['出发地'],df['目的地']]).mean()"
   ]
  },
  {
   "cell_type": "code",
   "execution_count": null,
   "metadata": {},
   "outputs": [],
   "source": [
    "# 读取路线总数\n",
    "df_ = pd.read_csv('E:/dataset/pandas_data/qunar_route_cnt.csv',delimiter=\",\",encoding=\"utf8\",header=0)\n",
    "df_.head()"
   ]
  },
  {
   "cell_type": "code",
   "execution_count": null,
   "metadata": {},
   "outputs": [],
   "source": [
    "# 按出发地、目的地分组查看价格均值汇总表\n",
    "df1 = df.groupby([df['出发地'],df['目的地']],as_index=False).mean()\n",
    "df1"
   ]
  },
  {
   "cell_type": "code",
   "execution_count": null,
   "metadata": {},
   "outputs": [],
   "source": [
    "# 将价格均值汇总表和路线总数表合并  emmm...\n",
    "pd.merge(df1,df_).head(10)"
   ]
  },
  {
   "cell_type": "code",
   "execution_count": null,
   "metadata": {},
   "outputs": [],
   "source": [
    "# 查看出发地vs目的地vs平均价格的数据透视图\n",
    "# 就出发地到目的地的价格二维图\n",
    "df2 = pd.pivot_table(df,values=['价格'],index=['出发地'],columns=['目的地'])\n",
    "df2.head(8)"
   ]
  },
  {
   "cell_type": "code",
   "execution_count": null,
   "metadata": {},
   "outputs": [],
   "source": [
    "# 从杭州出发的目的地vs去程方式vs平均价格的数据透视表\n",
    "df1 = pd.pivot_table(df[df['出发地']=='杭州'],values=['价格'],index=['出发地','目的地'],columns=['去程方式'])\n",
    "df1\n",
    "# 二维图示，抽取出发地为杭州到其他目的地的去程方式及其对应价格"
   ]
  },
  {
   "cell_type": "code",
   "execution_count": null,
   "metadata": {},
   "outputs": [],
   "source": [
    "# 缺失值处理\n",
    "# 查看是否有缺失值\n",
    "df = pd.read_csv('E:/dataset/pandas_data/hz_weather.csv',delimiter=\",\",encoding=\"utf8\",header=0)\n",
    "df1 = pd.pivot_table(df,values=['最高气温'],index=['天气'],columns=['风向'])\n",
    "df1.isnull()"
   ]
  },
  {
   "cell_type": "code",
   "execution_count": null,
   "metadata": {},
   "outputs": [],
   "source": [
    "# 使用参数axis=0选择删除行\n",
    "# 啥意思啊，就是选择删除，列数据均为NaN的行？\n",
    "# 显示的是原表处理后的留下来的数据\n",
    "df1.dropna(axis=0)"
   ]
  },
  {
   "cell_type": "code",
   "execution_count": null,
   "metadata": {},
   "outputs": [],
   "source": [
    "# 选择删除列\n",
    "df1.dropna(axis=1)"
   ]
  },
  {
   "cell_type": "code",
   "execution_count": null,
   "metadata": {},
   "outputs": [],
   "source": [
    "# 用字符串代替缺失值\n",
    "df1.fillna('missing')"
   ]
  },
  {
   "cell_type": "code",
   "execution_count": null,
   "metadata": {},
   "outputs": [],
   "source": [
    "# 使用前一个数据代替NaN：method='pad'\n",
    "df1.fillna(method='pad')"
   ]
  },
  {
   "cell_type": "code",
   "execution_count": null,
   "metadata": {},
   "outputs": [],
   "source": [
    "# bfill表示用后一个数据代替NaN\n",
    "# 用limit限制每列可以替代NaN的数目，下面限制每列只能替代一个NaN\n",
    "df1.fillna(method='bfill',limit=1)"
   ]
  },
  {
   "cell_type": "code",
   "execution_count": null,
   "metadata": {},
   "outputs": [],
   "source": [
    "# 使用平均数或者其他描述性统计量来代替NaN这种方法\n",
    "df1.fillna(df1.mean())"
   ]
  },
  {
   "cell_type": "code",
   "execution_count": null,
   "metadata": {},
   "outputs": [],
   "source": [
    "# 检测和过滤异常值，使用describe函数可以生成描述统计结果\n",
    "% matplotlib inline # 这行啥意思啊\n",
    "import matplotlib as mpl\n",
    "import matplotlib.pyplot as plt\n",
    "df = pd.read_csv('E:/dataset/pandas_data/hz_weather.csv',delimiter=\",\",encoding=\"utf8\",header=0)\n",
    "fig,ax = plt.subplots(1,1,figsize=(8,5))\n",
    "ax.hist(df['最低气温'],bins=20)\n",
    "d = df['最低气温']\n",
    "zscore = (d-d.mean())/d.std()\n",
    "df['isOutlier'] = zscore.abs()>3\n",
    "df['isOutlier'].value_counts()"
   ]
  },
  {
   "cell_type": "code",
   "execution_count": null,
   "metadata": {},
   "outputs": [],
   "source": []
  }
 ],
 "metadata": {
  "kernelspec": {
   "display_name": "Python 3",
   "language": "python",
   "name": "python3"
  },
  "language_info": {
   "codemirror_mode": {
    "name": "ipython",
    "version": 3
   },
   "file_extension": ".py",
   "mimetype": "text/x-python",
   "name": "python",
   "nbconvert_exporter": "python",
   "pygments_lexer": "ipython3",
   "version": "3.6.5"
  }
 },
 "nbformat": 4,
 "nbformat_minor": 2
}
