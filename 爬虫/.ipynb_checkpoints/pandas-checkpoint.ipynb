{
 "cells": [
  {
   "cell_type": "code",
   "execution_count": null,
   "metadata": {
    "pycharm": {
     "is_executing": false,
     "name": "#%%\n"
    }
   },
   "outputs": [],
   "source": [
    "import pandas as pd\n",
    "# 从csv中读取数据，还可以读取html，txt等格式的文件\n",
    "# 根据所读取的数据文件列之间的分隔方式设置delimiter参数，\n",
    "# 大于一个字符的分隔符被看作正则表达式，如一个或多个空格(\\s+)、tab符号(\\t)等\n",
    "df = pd.read_csv('E:/dataset/pandas_data/taobao_data.csv',delimiter=\",\",encoding=\"utf8\",header=0)\n",
    "# print(df)"
   ]
  },
  {
   "cell_type": "code",
   "execution_count": null,
   "metadata": {
    "pycharm": {
     "name": "#%%\n"
    }
   },
   "outputs": [],
   "source": [
    "# 向csv写入数据\n",
    "# 不要索引，只要列头、\"商品\"、\"价格\"三列\n",
    "df.to_csv('E:/dataset/pandas_data/taobao_price_data.csv',columns=['宝贝','价格'],index=False,header=True)"
   ]
  },
  {
   "cell_type": "code",
   "execution_count": null,
   "metadata": {
    "pycharm": {
     "is_executing": false,
     "name": "#%%\n"
    }
   },
   "outputs": [],
   "source": [
    "# 行的选取\n",
    "rows = df[0:3]\n",
    "rows"
   ]
  },
  {
   "cell_type": "code",
   "execution_count": null,
   "metadata": {
    "pycharm": {
     "is_executing": false,
     "name": "#%%\n"
    }
   },
   "outputs": [],
   "source": [
    "# 列的选取\n",
    "cols = df[['宝贝','价格']]\n",
    "cols.head()  # 用于显示数据框中前5行数据"
   ]
  },
  {
   "cell_type": "code",
   "execution_count": null,
   "metadata": {
    "pycharm": {
     "is_executing": false,
     "name": "#%%\n"
    }
   },
   "outputs": [],
   "source": [
    "# 块的选取\n",
    "# 此处0:3相当于[0,1,2,3]\n",
    "df.ix[0:3,['宝贝','价格']]"
   ]
  },
  {
   "cell_type": "code",
   "execution_count": null,
   "metadata": {
    "pycharm": {
     "is_executing": false,
     "name": "#%%\n"
    }
   },
   "outputs": [],
   "source": [
    "# 操作行和块\n",
    "# 从已有的列中创建一个新的列\n",
    "df['销售额'] = df['价格']*df['成交量']\n",
    "df.head()"
   ]
  },
  {
   "cell_type": "code",
   "execution_count": null,
   "metadata": {
    "pycharm": {
     "name": "#%%\n"
    }
   },
   "outputs": [],
   "source": [
    "# 根据条件过滤行\n",
    "# 在方括号中加入判断条件来过滤，条件必须返回True或者False\n",
    "df[(df['价格']<100) & (df['成交量']>10000)]"
   ]
  },
  {
   "cell_type": "code",
   "execution_count": null,
   "metadata": {},
   "outputs": [],
   "source": [
    "# 数据整理\n",
    "# 首先将数据框按照位置字段进行排序输入以下代码\n",
    "df1 = df.set_index(\"位置\") # set_index将某个字段作为index\n",
    "df1 = df1.sort_index()\n",
    "df1.head()"
   ]
  },
  {
   "cell_type": "code",
   "execution_count": null,
   "metadata": {},
   "outputs": [],
   "source": [
    "# 将数据框按照位置和卖家两个字段进行排序，其中位置为第一个排序因子\n",
    "# sortlevel(0)表示根据第一个索引\"位置\"排序\n",
    "df2 = df.set_index([\"位置\",\"卖家\"]).sort_index(level= 0) # 根据警告进行了替换\n",
    "df2.head()"
   ]
  },
  {
   "cell_type": "code",
   "execution_count": null,
   "metadata": {},
   "outputs": [],
   "source": [
    "# 将成交量按位置分组计算均值和求和\n",
    "df_mean = df.drop([\"宝贝\",\"卖家\"],axis=1).groupby(\"位置\").mean().sort_values(\"成交量\",ascending=False)\n",
    "df_sum = df.drop([\"宝贝\",\"卖家\"],axis=1).groupby(\"位置\").sum().sort_values(\"成交量\",ascending=False)\n",
    "# drop（默认axis=0）是删掉行，axis=1是删掉列\n",
    "# groupby 汇总\n",
    "# sort_values 排序\n",
    "df_mean"
   ]
  },
  {
   "cell_type": "code",
   "execution_count": null,
   "metadata": {},
   "outputs": [],
   "source": [
    "# 数据描述\n",
    "# 查看表的数据信息\n",
    "df.info()"
   ]
  },
  {
   "cell_type": "code",
   "execution_count": null,
   "metadata": {},
   "outputs": [],
   "source": [
    "# 查看表的描述性统计信息\n",
    "df.describe()"
   ]
  },
  {
   "cell_type": "code",
   "execution_count": null,
   "metadata": {},
   "outputs": [],
   "source": []
  }
 ],
 "metadata": {
  "kernelspec": {
   "display_name": "Python 3",
   "language": "python",
   "name": "python3"
  },
  "language_info": {
   "codemirror_mode": {
    "name": "ipython",
    "version": 3
   },
   "file_extension": ".py",
   "mimetype": "text/x-python",
   "name": "python",
   "nbconvert_exporter": "python",
   "pygments_lexer": "ipython3",
   "version": "3.6.5"
  },
  "pycharm": {
   "stem_cell": {
    "cell_type": "raw",
    "metadata": {
     "collapsed": false
    },
    "source": []
   }
  }
 },
 "nbformat": 4,
 "nbformat_minor": 1
}
