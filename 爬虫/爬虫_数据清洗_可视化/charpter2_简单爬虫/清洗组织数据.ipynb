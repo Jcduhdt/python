{
 "cells": [
  {
   "cell_type": "code",
   "execution_count": null,
   "metadata": {},
   "outputs": [],
   "source": [
    "import requests\n",
    "from bs4 import BeautifulSoup\n",
    "import re # 正则\n",
    "import time\n",
    "\n",
    "url = 'http://www.cntour.cn'\n",
    "headers = {'User-Agent':'Mozilla/5.0 (Windows NT 10.0; WOW64)\\\n",
    "           AppleWebKit/537.36 (KHTML, like Gecko) Chrome/79.0.3945.79 Safari/537.36'}\n",
    "proxies = {\n",
    "    \"http\":\"http://10.10.1.10:3128\",\n",
    "    \"https\":\"http://10.10.1.10:1080\"\n",
    "}# 代理池\n",
    "strhtml = requests.get(url,headers=headers)\n",
    "soup = BeautifulSoup(strhtml.text,'lxml')\n",
    "# 书上路径是到网页目标位置右击点检查，在目标源码位置，右击点从朋友，复制的copy select 以前是用的xpath\n",
    "data = soup.select('#main > div > div.mtop.firstMod.clearfix > div.centerBox > ul.newsList > li > a')\n",
    "# print(data)\n",
    "for item in data: # soup匹配到的有多少个数据，用for循环取出\n",
    "    result = {\n",
    "        'title':item.get_text(),\n",
    "        'link':item.get('href'),\n",
    "        'ID':re.findall('\\d+',item.get('href'))\n",
    "    }\n",
    "    print(result)"
   ]
  },
  {
   "cell_type": "code",
   "execution_count": null,
   "metadata": {},
   "outputs": [],
   "source": []
  }
 ],
 "metadata": {
  "kernelspec": {
   "display_name": "Python 3",
   "language": "python",
   "name": "python3"
  },
  "language_info": {
   "codemirror_mode": {
    "name": "ipython",
    "version": 3
   },
   "file_extension": ".py",
   "mimetype": "text/x-python",
   "name": "python",
   "nbconvert_exporter": "python",
   "pygments_lexer": "ipython3",
   "version": "3.6.5"
  }
 },
 "nbformat": 4,
 "nbformat_minor": 2
}
