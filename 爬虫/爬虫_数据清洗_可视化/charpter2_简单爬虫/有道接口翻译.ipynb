{
 "cells": [
  {
   "cell_type": "code",
   "execution_count": null,
   "metadata": {},
   "outputs": [],
   "source": [
    "import requests\n",
    "import json\n",
    "def get_translate_date(word):\n",
    "    url='http://fanyi.youdao.com/translate' # 有道的接口是这个，不是书上那个\n",
    "    From_data = {\n",
    "        'i': word,\n",
    "        'from': 'AUTO',\n",
    "        'to': 'AUTO',\n",
    "        'smartresult': 'dict',\n",
    "        'client': 'fanyideskweb',\n",
    "        'salt': '15772707584236',\n",
    "        'sign': '7dfd26773a908425f790e63421a16243',\n",
    "        'ts': '1577270758423',\n",
    "        'bv': '40cd57288129392e94ffd3426bd5537c',\n",
    "        'doctype': 'json',\n",
    "        'version': '2.1',\n",
    "        'keyfrom': 'fanyi.web',\n",
    "        'action': 'FY_BY_REALTlME'}\n",
    "    # 请求表单数据\n",
    "    response = requests.post(url,data = From_data)\n",
    "    # 将json格式字符串转字典\n",
    "    content = json.loads(response.text)\n",
    "    print(content.keys())# 打印返回的json的键\n",
    "    # 打印翻译后的数据\n",
    "    print(content['translateResult'][0][0]['tgt'])\n",
    "if __name__ == '__main__':\n",
    "    get_translate_date('我爱数据')"
   ]
  },
  {
   "cell_type": "code",
   "execution_count": null,
   "metadata": {},
   "outputs": [],
   "source": []
  }
 ],
 "metadata": {
  "kernelspec": {
   "display_name": "Python 3",
   "language": "python",
   "name": "python3"
  },
  "language_info": {
   "codemirror_mode": {
    "name": "ipython",
    "version": 3
   },
   "file_extension": ".py",
   "mimetype": "text/x-python",
   "name": "python",
   "nbconvert_exporter": "python",
   "pygments_lexer": "ipython3",
   "version": "3.6.5"
  }
 },
 "nbformat": 4,
 "nbformat_minor": 2
}
