{
 "cells": [
  {
   "cell_type": "code",
   "execution_count": null,
   "metadata": {},
   "outputs": [],
   "source": [
    "import requests\n",
    "import time\n",
    "\n",
    "url = 'https://cdn.heweather.com/china-city-list.txt'\n",
    "strhtml = requests.get(url)\n",
    "strhtml.encoding='utf-8'\n",
    "data = strhtml.text\n",
    "data1 = data.split(\"\\n\")# 将文本转成列表  书上是\\r不行，但是现在好像是\\n分段\n",
    "# print(data1)\n",
    "for i in range(6):# 通过一个循环将前三行无用的删除\n",
    "    data1.remove(data1[0])# \n",
    "for item in data1[0:10]:# 提取城市/地区编码,城市太多了就提取了前10个\n",
    "#     print(item[1:13])\n",
    "    url = 'https://free-api.heweather.net/s6/weather/forecast?location='+item[1:13]+'&key=8586ba40bce549ffa0f5d6370805722f'\n",
    "    strhtml = requests.get(url)\n",
    "    strhtml.encoding = 'utf-8'\n",
    "    time.sleep(1)\n",
    "#     print(strhtml.text)\n",
    "    dic = strhtml.json()# 这个会覆盖\n",
    "for item in dic[\"HeWeather6\"][0][\"daily_forecast\"]:# 用http://www.json.org.cn/tools/JSONEditorOnline/index.htm看json格式太棒了\n",
    "    print(item[\"tmp_max\"])"
   ]
  },
  {
   "cell_type": "code",
   "execution_count": null,
   "metadata": {},
   "outputs": [],
   "source": []
  }
 ],
 "metadata": {
  "kernelspec": {
   "display_name": "Python 3",
   "language": "python",
   "name": "python3"
  },
  "language_info": {
   "codemirror_mode": {
    "name": "ipython",
    "version": 3
   },
   "file_extension": ".py",
   "mimetype": "text/x-python",
   "name": "python",
   "nbconvert_exporter": "python",
   "pygments_lexer": "ipython3",
   "version": "3.6.5"
  }
 },
 "nbformat": 4,
 "nbformat_minor": 2
}
