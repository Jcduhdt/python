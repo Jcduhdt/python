{
 "cells": [
  {
   "cell_type": "code",
   "execution_count": null,
   "metadata": {
    "pycharm": {
     "is_executing": false,
     "name": "#%%\n"
    }
   },
   "outputs": [],
   "source": [
    "import pandas as pd\n",
    "# 从csv中读取数据，还可以读取html，txt等格式的文件\n",
    "# 根据所读取的数据文件列之间的分隔方式设置delimiter参数，\n",
    "# 大于一个字符的分隔符被看作正则表达式，如一个或多个空格(\\s+)、tab符号(\\t)等\n",
    "df = pd.read_csv('E:/dataset/pandas_data/taobao_data.csv',delimiter=\",\",encoding=\"utf8\",header=0)\n",
    "# print(df)"
   ]
  },
  {
   "cell_type": "code",
   "execution_count": null,
   "metadata": {
    "pycharm": {
     "name": "#%%\n"
    }
   },
   "outputs": [],
   "source": [
    "# 向csv写入数据\n",
    "# 不要索引，只要列头、\"商品\"、\"价格\"三列\n",
    "df.to_csv('E:/dataset/pandas_data/taobao_price_data.csv',columns=['宝贝','价格'],index=False,header=True)"
   ]
  },
  {
   "cell_type": "code",
   "execution_count": null,
   "metadata": {
    "pycharm": {
     "is_executing": false,
     "name": "#%%\n"
    }
   },
   "outputs": [],
   "source": [
    "# 行的选取\n",
    "rows = df[0:3]\n",
    "rows"
   ]
  },
  {
   "cell_type": "code",
   "execution_count": null,
   "metadata": {
    "pycharm": {
     "is_executing": false,
     "name": "#%%\n"
    }
   },
   "outputs": [],
   "source": [
    "# 列的选取\n",
    "cols = df[['宝贝','价格']]\n",
    "cols.head()  # 用于显示数据框中前5行数据"
   ]
  },
  {
   "cell_type": "code",
   "execution_count": null,
   "metadata": {
    "pycharm": {
     "is_executing": false,
     "name": "#%%\n"
    }
   },
   "outputs": [],
   "source": [
    "# 块的选取\n",
    "# 此处0:3相当于[0,1,2,3]\n",
    "df.ix[0:3,['宝贝','价格']]"
   ]
  },
  {
   "cell_type": "code",
   "execution_count": null,
   "metadata": {
    "pycharm": {
     "is_executing": false,
     "name": "#%%\n"
    }
   },
   "outputs": [],
   "source": [
    "# 操作行和块\n",
    "# 从已有的列中创建一个新的列\n",
    "df['销售额'] = df['价格']*df['成交量']\n",
    "df.head()"
   ]
  },
  {
   "cell_type": "code",
   "execution_count": null,
   "metadata": {
    "pycharm": {
     "name": "#%%\n"
    }
   },
   "outputs": [],
   "source": [
    "# 根据条件过滤行\n",
    "# 在方括号中加入判断条件来过滤，条件必须返回True或者False\n",
    "df[(df['价格']<100) & (df['成交量']>10000)]"
   ]
  },
  {
   "cell_type": "code",
   "execution_count": null,
   "metadata": {},
   "outputs": [],
   "source": [
    "# 数据整理\n",
    "# 首先将数据框按照位置字段进行排序输入以下代码\n",
    "df1 = df.set_index(\"位置\") # set_index将某个字段作为index\n",
    "df1 = df1.sort_index()\n",
    "df1.head()"
   ]
  },
  {
   "cell_type": "code",
   "execution_count": null,
   "metadata": {},
   "outputs": [],
   "source": [
    "# 将数据框按照位置和卖家两个字段进行排序，其中位置为第一个排序因子\n",
    "# sortlevel(0)表示根据第一个索引\"位置\"排序\n",
    "df2 = df.set_index([\"位置\",\"卖家\"]).sort_index(level= 0) # 根据警告进行了替换\n",
    "df2.head()"
   ]
  },
  {
   "cell_type": "code",
   "execution_count": null,
   "metadata": {},
   "outputs": [],
   "source": [
    "# 将成交量按位置分组计算均值和求和\n",
    "df_mean = df.drop([\"宝贝\",\"卖家\"],axis=1).groupby(\"位置\").mean().sort_values(\"成交量\",ascending=False)\n",
    "df_sum = df.drop([\"宝贝\",\"卖家\"],axis=1).groupby(\"位置\").sum().sort_values(\"成交量\",ascending=False)\n",
    "# drop（默认axis=0）是删掉行，axis=1是删掉列\n",
    "# groupby 汇总\n",
    "# sort_values 排序\n",
    "df_mean"
   ]
  },
  {
   "cell_type": "code",
   "execution_count": null,
   "metadata": {},
   "outputs": [],
   "source": [
    "# 数据描述\n",
    "# 查看表的数据信息\n",
    "df.info()"
   ]
  },
  {
   "cell_type": "code",
   "execution_count": null,
   "metadata": {},
   "outputs": [],
   "source": [
    "# 查看表的描述性统计信息\n",
    "df.describe()"
   ]
  },
  {
   "cell_type": "code",
   "execution_count": null,
   "metadata": {},
   "outputs": [],
   "source": [
    "# 数据分组\n",
    "# 将指定字段作为索引，汇总数据\n",
    "# 按位置进行分组，并计算销量列的平均值，可以访问销量列，并根据位置调用groupby\n",
    "grouped = df['成交量'].groupby(df['位置'])\n",
    "grouped.mean()"
   ]
  },
  {
   "cell_type": "code",
   "execution_count": null,
   "metadata": {},
   "outputs": [],
   "source": [
    "# 如果一次传入多个数组，就会得到按多列数值分组的统计结果\n",
    "means = df['成交量'].groupby([df['位置'],df['卖家']]).mean()\n",
    "means"
   ]
  },
  {
   "cell_type": "code",
   "execution_count": null,
   "metadata": {},
   "outputs": [],
   "source": [
    "# 将列名作为分组\n",
    "# 将位置作为索引，按均值汇总所有的数值指标\n",
    "# 因为卖家列不是数值，所以从结果中排除了，默认情况下，所有数值列都会被聚合\n",
    "df.groupby('位置').mean()"
   ]
  },
  {
   "cell_type": "code",
   "execution_count": null,
   "metadata": {},
   "outputs": [],
   "source": [
    "#  将位置和卖家作为索引，按均值汇总所有数值指标\n",
    "df.groupby(['位置','卖家']).mean()"
   ]
  },
  {
   "cell_type": "code",
   "execution_count": null,
   "metadata": {},
   "outputs": [],
   "source": [
    "# groupby的size方法，可以返回一个含有各分组大小的Series\n",
    "df.groupby(['位置','卖家']).size()"
   ]
  },
  {
   "cell_type": "code",
   "execution_count": null,
   "metadata": {},
   "outputs": [],
   "source": [
    "# 数据分割\n",
    "df1 = df[30:40][['位置','卖家']]\n",
    "# df1中包含df的第30~39行数据，只保留位置，卖家两列\n",
    "df2 = df[80:90][['卖家','销售额']]\n",
    "# df2中包含df的第80~89行数据，只保留卖家，销售额两列  销售额在前面新生成的\n",
    "df2"
   ]
  },
  {
   "cell_type": "code",
   "execution_count": null,
   "metadata": {},
   "outputs": [],
   "source": [
    "# 数据合并\n",
    "# pandas.merge 根据一个或多个键将多个DataFrame连接起来，类似数据库连接\n",
    "# pandas.concat 可以沿着一个轴将多个对象堆叠起来\n",
    "# combine_first可以将重复数据编制在一起，用以填充另一个对象的缺失值\n",
    "pd.merge(df1,df2) # 不指定列名，默认会选择列名相同的卖家列\n",
    "pd.merge(df1,df2,on='卖家') # 指定列名，结果同上"
   ]
  },
  {
   "cell_type": "code",
   "execution_count": null,
   "metadata": {},
   "outputs": [],
   "source": [
    "# merge方法默认使用inner连接（内连接），通过how参数可以指定连接方法\n",
    "# 改为外连接outer\n",
    "pd.merge(df1,df2,how='outer')"
   ]
  },
  {
   "cell_type": "code",
   "execution_count": null,
   "metadata": {},
   "outputs": [],
   "source": [
    "# 通过how参数将默认连接修改为左连接\n",
    "pd.merge(df1,df2,how='left')"
   ]
  },
  {
   "cell_type": "code",
   "execution_count": null,
   "metadata": {},
   "outputs": [],
   "source": [
    "# 通过how参数将默认连接修改为右连接\n",
    "pd.merge(df1,df2,how='right',on='卖家')"
   ]
  },
  {
   "cell_type": "code",
   "execution_count": null,
   "metadata": {},
   "outputs": [],
   "source": [
    "# 索引上的合并\n",
    "# 传入left_index=True或者right_index=True，可以将索引作为连接键使用\n",
    "df1 = df[:10][['位置','卖家']]\n",
    "df2 = df[:10][['价格','成交量']]\n",
    "df1"
   ]
  },
  {
   "cell_type": "code",
   "execution_count": null,
   "metadata": {},
   "outputs": [],
   "source": [
    "# 将DataFrame的index作为连接键  就是出来结果的0-9索引吧\n",
    "pd.merge(df1,df2,left_index=True,right_index=True)"
   ]
  },
  {
   "cell_type": "code",
   "execution_count": null,
   "metadata": {},
   "outputs": [],
   "source": [
    "# DataFrame还有join方法，可以更好地合并索引\n",
    "df1.join(df2)\n",
    "# 效果同pd.merge(df1,df2,left_index=True,right_index=True)"
   ]
  },
  {
   "cell_type": "code",
   "execution_count": null,
   "metadata": {},
   "outputs": [],
   "source": [
    "# 轴向链接 也被称为连接、绑定、堆叠\n",
    "s1 = df[:5]['宝贝']\n",
    "s2 = df[5:10]['宝贝']\n",
    "s3 = df[10:15]['宝贝']\n",
    "pd.concat([s1,s2,s3])"
   ]
  },
  {
   "cell_type": "code",
   "execution_count": null,
   "metadata": {},
   "outputs": [],
   "source": [
    "s1 = df[:5]['宝贝']\n",
    "s2 = df[:5]['价格']\n",
    "s3 = df[:5]['成交量']\n",
    "pd.concat([s1,s2,s3],axis=1)# 做一个DataFrame出来  横向拼接？"
   ]
  },
  {
   "cell_type": "code",
   "execution_count": null,
   "metadata": {},
   "outputs": [],
   "source": [
    "df1 = df[:5][['位置','卖家']]\n",
    "df2 = df[:5][['价格','成交量']]\n",
    "pd.concat([df1,df2],sort=True)# 纵向拼接，但因为列不对应，所以有地方是NaN"
   ]
  },
  {
   "cell_type": "code",
   "execution_count": null,
   "metadata": {},
   "outputs": [],
   "source": [
    "pd.concat([df1,df2],sort=True,axis=1)"
   ]
  },
  {
   "cell_type": "code",
   "execution_count": null,
   "metadata": {},
   "outputs": [],
   "source": [
    "# 数据变形\n",
    "# 重塑层次化索引\n",
    "# 针对DataFrame，有stack()函数和unstack()函数，stack()将数据的列旋转为行，unstack()反之\n",
    "data = pd.read_csv('E:/dataset/pandas_data/hz_weather.csv',delimiter=\",\",encoding=\"utf8\",header=0)\n",
    "data.head()"
   ]
  },
  {
   "cell_type": "code",
   "execution_count": null,
   "metadata": {},
   "outputs": [],
   "source": [
    "data.stack() # 把列转换为行，即形成一个层次化索引的Series  索引还是那个索引，就是每个记录的列名都展现出来"
   ]
  },
  {
   "cell_type": "code",
   "execution_count": null,
   "metadata": {},
   "outputs": [],
   "source": [
    "data.stack().unstack()# 将层次化索引的Series转换为一个普通的DataFrame"
   ]
  },
  {
   "cell_type": "code",
   "execution_count": null,
   "metadata": {},
   "outputs": [],
   "source": [
    "# 数据透视表\n",
    "df = data.set_index('日期')\n",
    "df.head()"
   ]
  },
  {
   "cell_type": "code",
   "execution_count": null,
   "metadata": {},
   "outputs": [],
   "source": [
    "# 表中以最高气温作为数值域，天气为行，风向为列的数据视图\n",
    "df1 = pd.pivot_table(df,values=['最高气温'],index=['天气'],columns=['风向'])\n",
    "df1\n",
    "# 看着脑袋疼"
   ]
  },
  {
   "cell_type": "code",
   "execution_count": null,
   "metadata": {},
   "outputs": [],
   "source": [
    "df1.info()"
   ]
  }
 ],
 "metadata": {
  "kernelspec": {
   "display_name": "Python 3",
   "language": "python",
   "name": "python3"
  },
  "language_info": {
   "codemirror_mode": {
    "name": "ipython",
    "version": 3
   },
   "file_extension": ".py",
   "mimetype": "text/x-python",
   "name": "python",
   "nbconvert_exporter": "python",
   "pygments_lexer": "ipython3",
   "version": "3.6.5"
  },
  "pycharm": {
   "stem_cell": {
    "cell_type": "raw",
    "metadata": {
     "collapsed": false
    },
    "source": []
   }
  }
 },
 "nbformat": 4,
 "nbformat_minor": 1
}
