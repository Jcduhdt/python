{
 "cells": [
  {
   "cell_type": "code",
   "execution_count": null,
   "metadata": {},
   "outputs": [],
   "source": [
    "# 旅游数据的分析与变形\n",
    "# 读取自由行路线数据表\n",
    "import pandas as pd\n",
    "df = pd.read_csv('E:/dataset/pandas_data/qunar_free_trip.csv',delimiter=\",\",encoding=\"utf8\",header=0)\n",
    "df.head()"
   ]
  },
  {
   "cell_type": "code",
   "execution_count": null,
   "metadata": {},
   "outputs": [],
   "source": [
    "# 按出发地、目的地分组查看价格均值\n",
    "df['价格'].groupby([df['出发地'],df['目的地']]).mean()"
   ]
  },
  {
   "cell_type": "code",
   "execution_count": null,
   "metadata": {},
   "outputs": [],
   "source": [
    "# 读取路线总数\n",
    "df_ = pd.read_csv('E:/dataset/pandas_data/qunar_route_cnt.csv',delimiter=\",\",encoding=\"utf8\",header=0)\n",
    "df_.head()"
   ]
  },
  {
   "cell_type": "code",
   "execution_count": null,
   "metadata": {},
   "outputs": [],
   "source": [
    "# 按出发地、目的地分组查看价格均值汇总表\n",
    "df1 = df.groupby([df['出发地'],df['目的地']],as_index=False).mean()\n",
    "df1"
   ]
  },
  {
   "cell_type": "code",
   "execution_count": null,
   "metadata": {},
   "outputs": [],
   "source": [
    "# 将价格均值汇总表和路线总数表合并  emmm...\n",
    "pd.merge(df1,df_).head(10)"
   ]
  },
  {
   "cell_type": "code",
   "execution_count": null,
   "metadata": {},
   "outputs": [],
   "source": [
    "# 查看出发地vs目的地vs平均价格的数据透视图\n",
    "# 就出发地到目的地的价格二维图\n",
    "df2 = pd.pivot_table(df,values=['价格'],index=['出发地'],columns=['目的地'])\n",
    "df2.head(8)"
   ]
  },
  {
   "cell_type": "code",
   "execution_count": null,
   "metadata": {},
   "outputs": [],
   "source": [
    "# 从杭州出发的目的地vs去程方式vs平均价格的数据透视表\n",
    "df1 = pd.pivot_table(df[df['出发地']=='杭州'],values=['价格'],index=['出发地','目的地'],columns=['去程方式'])\n",
    "df1\n",
    "# 二维图示，抽取出发地为杭州到其他目的地的去程方式及其对应价格"
   ]
  },
  {
   "cell_type": "code",
   "execution_count": null,
   "metadata": {},
   "outputs": [],
   "source": [
    "# 缺失值处理\n",
    "# 查看是否有缺失值\n",
    "df = pd.read_csv('E:/dataset/pandas_data/hz_weather.csv',delimiter=\",\",encoding=\"utf8\",header=0)\n",
    "df1 = pd.pivot_table(df,values=['最高气温'],index=['天气'],columns=['风向'])\n",
    "df1.isnull()"
   ]
  },
  {
   "cell_type": "code",
   "execution_count": null,
   "metadata": {},
   "outputs": [],
   "source": [
    "# 使用参数axis=0选择删除行\n",
    "# 啥意思啊，就是选择删除，列数据均为NaN的行？\n",
    "# 显示的是原表处理后的留下来的数据\n",
    "df1.dropna(axis=0)"
   ]
  },
  {
   "cell_type": "code",
   "execution_count": null,
   "metadata": {},
   "outputs": [],
   "source": [
    "# 选择删除列\n",
    "df1.dropna(axis=1)"
   ]
  },
  {
   "cell_type": "code",
   "execution_count": null,
   "metadata": {},
   "outputs": [],
   "source": [
    "# 用字符串代替缺失值\n",
    "df1.fillna('missing')"
   ]
  },
  {
   "cell_type": "code",
   "execution_count": null,
   "metadata": {},
   "outputs": [],
   "source": [
    "# 使用前一个数据代替NaN：method='pad'\n",
    "df1.fillna(method='pad')"
   ]
  },
  {
   "cell_type": "code",
   "execution_count": null,
   "metadata": {},
   "outputs": [],
   "source": [
    "# bfill表示用后一个数据代替NaN\n",
    "# 用limit限制每列可以替代NaN的数目，下面限制每列只能替代一个NaN\n",
    "df1.fillna(method='bfill',limit=1)"
   ]
  },
  {
   "cell_type": "code",
   "execution_count": null,
   "metadata": {},
   "outputs": [],
   "source": [
    "# 使用平均数或者其他描述性统计量来代替NaN这种方法\n",
    "df1.fillna(df1.mean())"
   ]
  },
  {
   "cell_type": "code",
   "execution_count": null,
   "metadata": {},
   "outputs": [],
   "source": [
    "# 检测和过滤异常值，使用describe函数可以生成描述统计结果\n",
    "# 基于统计与数据分布\n",
    "# 这行啥意思啊\n",
    "% matplotlib inline\n",
    "import matplotlib as mpl\n",
    "import matplotlib.pyplot as plt\n",
    "df = pd.read_csv('E:/dataset/pandas_data/hz_weather.csv',delimiter=\",\",encoding=\"utf8\",header=0)\n",
    "fig,ax = plt.subplots(1,1,figsize=(8,5))\n",
    "ax.hist(df['最低气温'],bins=20)\n",
    "d = df['最低气温']\n",
    "zscore = (d-d.mean())/d.std()\n",
    "df['isOutlier'] = zscore.abs()>3\n",
    "df['isOutlier'].value_counts()"
   ]
  },
  {
   "cell_type": "code",
   "execution_count": null,
   "metadata": {},
   "outputs": [],
   "source": [
    "# 箱型图分析\n",
    "# 用于观测数据整体的分布情况，利用中位数，25%分位数，75%分位数、上边界、下边界等统计量来描述数据的整体分布情况\n",
    "# 箱体中数据一般被认为正常，箱体上边界和下边界被认为异常\n",
    "# %matplotlib inline\n",
    "# import matplotlib as mpl\n",
    "# import matplotlib.pyplot as plt\n",
    "# df = pd.read_csv('E:/dataset/pandas_data/sale_data.csv',delimiter=\",\",encoding=\"utf8\",header=0)# 没这数据。。\n",
    "# fig,ax = plt.subplots(1,1,figsize=(8,5))\n",
    "# df_ = df[df[\"子行业名称\"]==\"羽绒服\"]\n",
    "# df_.boxplot(column=\"成交量\",ax=ax)\n",
    "# d = df_[\"成交量\"]\n",
    "# print(d.describe())\n",
    "# df_['isOutlier'] = d > d.quantile(0.75)\n",
    "# df_[df_['isOutlier']==True]"
   ]
  },
  {
   "cell_type": "code",
   "execution_count": null,
   "metadata": {},
   "outputs": [],
   "source": [
    "# 移除重复数据\n",
    "# duplicated方法返回一个bool型Series，用以判断某行是否为重复行\n",
    "# drop_duplicates方法返回一个删除了重复行的DataFrame\n",
    "df = pd.read_csv('E:/dataset/pandas_data/hz_weather.csv',delimiter=\",\",encoding=\"utf8\",header=0)\n",
    "df.duplicated()"
   ]
  },
  {
   "cell_type": "code",
   "execution_count": null,
   "metadata": {},
   "outputs": [],
   "source": [
    "df.duplicated('最高气温') # 按照列进行判断  这里跟书上不一样，data是啥啊"
   ]
  },
  {
   "cell_type": "code",
   "execution_count": null,
   "metadata": {},
   "outputs": [],
   "source": [
    "df.drop_duplicates('最高气温') # 返回一个新的去重后的对象"
   ]
  },
  {
   "cell_type": "code",
   "execution_count": null,
   "metadata": {},
   "outputs": [],
   "source": [
    "# 案例 旅游数据的值检查与处理\n",
    "# 对某旅游网站自由行路线数据缺失值、异常值、重复值的处理\n",
    "import pandas as pd\n",
    "df = pd.read_csv('E:/dataset/pandas_data/qunar_free_trip.csv',delimiter=\",\",encoding=\"utf8\",header=0)\n",
    "df.head()"
   ]
  },
  {
   "cell_type": "code",
   "execution_count": null,
   "metadata": {},
   "outputs": [],
   "source": [
    "# 查看是否有缺失值\n",
    "df.info()"
   ]
  },
  {
   "cell_type": "code",
   "execution_count": null,
   "metadata": {},
   "outputs": [],
   "source": [
    "# 查看是否有重复值\n",
    "df.duplicated().value_counts()"
   ]
  },
  {
   "cell_type": "code",
   "execution_count": null,
   "metadata": {},
   "outputs": [],
   "source": [
    "# 移除重复值\n",
    "df = df.drop_duplicates()\n",
    "df.duplicated().value_counts()"
   ]
  },
  {
   "cell_type": "code",
   "execution_count": null,
   "metadata": {},
   "outputs": [],
   "source": [
    "# 查看描述性统计信息\n",
    "df.describe()"
   ]
  },
  {
   "cell_type": "code",
   "execution_count": null,
   "metadata": {},
   "outputs": [],
   "source": [
    "# 画出价格分布的直方图和箱型图\n",
    "% matplotlib inline\n",
    "import matplotlib as mpl\n",
    "import matplotlib.pyplot as plt\n",
    "\n",
    "fig,axes = plt.subplots(1,2,figsize=(12,5))\n",
    "axes[0].hist(df['价格'],bins=20)\n",
    "df.boxplot(column=\"价格\",ax=axes[1])\n",
    "fig.tight_layout()"
   ]
  },
  {
   "cell_type": "code",
   "execution_count": null,
   "metadata": {},
   "outputs": [],
   "source": [
    "# 用均方差法找出价格异常值\n",
    "d = df['价格']\n",
    "zscore = (d-d.mean())/d.std()\n",
    "df['isOutlier'] = zscore.abs() > 3.5\n",
    "print(df['isOutlier'].value_counts())\n",
    "df[df['isOutlier']==True]"
   ]
  },
  {
   "cell_type": "code",
   "execution_count": null,
   "metadata": {},
   "outputs": [],
   "source": [
    "# 时序数据处理\n",
    "# 日期/时间数据转换\n",
    "import time\n",
    "print(time.time())"
   ]
  },
  {
   "cell_type": "code",
   "execution_count": null,
   "metadata": {},
   "outputs": [],
   "source": [
    "# 打印系统时间\n",
    "print(time.localtime())"
   ]
  },
  {
   "cell_type": "code",
   "execution_count": null,
   "metadata": {},
   "outputs": [],
   "source": [
    "print(time.strftime('%Y-%m-%d %X',time.localtime()))"
   ]
  },
  {
   "cell_type": "code",
   "execution_count": null,
   "metadata": {},
   "outputs": [],
   "source": [
    "# 将系统时间转换成时间戳\n",
    "print(time.mktime(time.localtime()))"
   ]
  },
  {
   "cell_type": "code",
   "execution_count": null,
   "metadata": {},
   "outputs": [],
   "source": [
    "# 将时间戳转变成系统时间\n",
    "print(time.strftime('%Y-%m-%d %X',time.localtime(1578921717.0)))"
   ]
  },
  {
   "cell_type": "code",
   "execution_count": null,
   "metadata": {},
   "outputs": [],
   "source": [
    "# 时序数据基础操作\n",
    "# datetime函数创建时间序列\n",
    "import datetime\n",
    "import numpy as np\n",
    "import pandas as pd\n",
    "pd.date_range(datetime.datetime(2020,1,1),periods=31)"
   ]
  },
  {
   "cell_type": "code",
   "execution_count": null,
   "metadata": {},
   "outputs": [],
   "source": [
    "pd.date_range(\"2020-1-1\",periods=31)"
   ]
  },
  {
   "cell_type": "code",
   "execution_count": null,
   "metadata": {},
   "outputs": [],
   "source": [
    "# freq=\"H\" 表示按小时生成序列\n",
    "pd.date_range(\"2020-1-1 00:00\",\"2020-1-1 12:00\",freq=\"H\")"
   ]
  },
  {
   "cell_type": "code",
   "execution_count": null,
   "metadata": {},
   "outputs": [],
   "source": [
    "# index是时间序列\n",
    "ts1 = pd.Series(np.arange(31),index=pd.date_range(\"2020-1-1\",periods=31))\n",
    "ts1.head()"
   ]
  },
  {
   "cell_type": "code",
   "execution_count": null,
   "metadata": {},
   "outputs": [],
   "source": [
    "ts1[\"2020-1-3\"]"
   ]
  },
  {
   "cell_type": "code",
   "execution_count": null,
   "metadata": {},
   "outputs": [],
   "source": [
    "ts1.index[2] # 打印第2个[从0开始]索引值"
   ]
  },
  {
   "cell_type": "code",
   "execution_count": null,
   "metadata": {},
   "outputs": [],
   "source": [
    "# 取出第二个索引对应的年月日\n",
    "ts1.index[2].year,ts1.index[2].month,ts1.index[2].day"
   ]
  },
  {
   "cell_type": "code",
   "execution_count": null,
   "metadata": {},
   "outputs": [],
   "source": [
    "# 案例 天气数据分析与处理\n",
    "# 时序分析\n",
    "data = pd.read_csv('E:/dataset/pandas_data/hz_weather.csv',delimiter=\",\",encoding=\"utf8\",header=0)\n",
    "df = data[['日期','最高气温','最低气温']]\n",
    "df.head()"
   ]
  },
  {
   "cell_type": "code",
   "execution_count": null,
   "metadata": {},
   "outputs": [],
   "source": [
    "df.日期 = pd.to_datetime(df.日期.values,format=\"%Y-%m-%d\")\n",
    "df = df.set_index('日期') # 把日期设为index\n",
    "df.index[0] # 取出第0个索引对应的日期值"
   ]
  },
  {
   "cell_type": "code",
   "execution_count": null,
   "metadata": {},
   "outputs": [],
   "source": [
    "df.info()"
   ]
  },
  {
   "cell_type": "code",
   "execution_count": null,
   "metadata": {},
   "outputs": [],
   "source": [
    "df.index < \"2017-2-1\"  # 返回一个布尔值数组"
   ]
  },
  {
   "cell_type": "code",
   "execution_count": null,
   "metadata": {},
   "outputs": [],
   "source": [
    "# 提取1月份的温度数据\n",
    "df_jan = df[(df.index >= \"2017-1-1\") & (df.index < \"2017-2-1\")]\n",
    "df_jan.info()"
   ]
  },
  {
   "cell_type": "code",
   "execution_count": null,
   "metadata": {},
   "outputs": [],
   "source": [
    "df1_jan = df[\"2017-1-1\":\"2017-1-31\"]# 设置起始日期和截止日期\n",
    "df1_jan.info()"
   ]
  },
  {
   "cell_type": "code",
   "execution_count": null,
   "metadata": {},
   "outputs": [],
   "source": [
    "# 只取月份\n",
    "df.to_period('M').head()"
   ]
  },
  {
   "cell_type": "code",
   "execution_count": null,
   "metadata": {},
   "outputs": [],
   "source": [
    "df_month = df.to_period(\"M\").groupby(level=0).mean()\n",
    "# groupby 对index做聚合，再做均值mean（level指定索引层数）\n",
    "df_month.head()"
   ]
  },
  {
   "cell_type": "code",
   "execution_count": null,
   "metadata": {},
   "outputs": [],
   "source": [
    "# 制作温度变化趋势图\n",
    "# 根据书上对matplotlib进行改动使得matplootlib支持中文作图\n",
    "%matplotlib inline\n",
    "import matplotlib as mlp\n",
    "import matplotlib.pyplot as plt\n",
    "fig,ax = plt.subplots(1,1,figsize=(12,4))\n",
    "df.plot(ax=ax)"
   ]
  },
  {
   "cell_type": "code",
   "execution_count": null,
   "metadata": {},
   "outputs": [],
   "source": [
    "# 数据类型转换\n",
    "\n",
    "import pandas as pd\n",
    "df_pop = pd.read_csv('E:/dataset/pandas_data/european_cities.csv',delimiter=\",\",encoding=\"utf8\",header=0)\n",
    "df_pop.head()"
   ]
  },
  {
   "cell_type": "code",
   "execution_count": null,
   "metadata": {},
   "outputs": [],
   "source": [
    "type(df_pop.Population[0])# 不是纯数值，是string型的"
   ]
  },
  {
   "cell_type": "code",
   "execution_count": null,
   "metadata": {},
   "outputs": [],
   "source": [
    "df_pop[\"NumericPopulation\"] = df_pop.Population.apply(lambda x:int(x.replace(\",\",\"\")))\n",
    "# lambda表示下面的内容是一个函数，对每一行用apply操作，去掉population每个元素的\n",
    "# 逗号并转为integer\n",
    "# apply很方便，不用循环\n",
    "df_pop.head()"
   ]
  },
  {
   "cell_type": "code",
   "execution_count": null,
   "metadata": {},
   "outputs": [],
   "source": [
    "df_pop[\"State\"].values[:3]"
   ]
  },
  {
   "cell_type": "code",
   "execution_count": null,
   "metadata": {},
   "outputs": [],
   "source": [
    "# 对state数据字段进行调整\n",
    "df_pop[\"State\"] = df_pop[\"State\"].apply(lambda x:x.strip())\n",
    "# 去掉string的前后的空格\n",
    "df_pop.head()"
   ]
  },
  {
   "cell_type": "code",
   "execution_count": null,
   "metadata": {},
   "outputs": [],
   "source": [
    "df_pop.dtypes"
   ]
  },
  {
   "cell_type": "code",
   "execution_count": null,
   "metadata": {},
   "outputs": [],
   "source": [
    "# 正则表达式\n",
    "# 案例 使用正则表达式提取网页文本信息\n",
    "import pandas as pd\n",
    "df = pd.read_csv('E:/dataset/pandas_data/getlinks.csv',delimiter=\",\",encoding=\"utf8\",header=0)\n",
    "df.head()"
   ]
  },
  {
   "cell_type": "code",
   "execution_count": null,
   "metadata": {},
   "outputs": [],
   "source": [
    "# 提取数字\n",
    "df.link.str.extract('(\\d+)')"
   ]
  },
  {
   "cell_type": "code",
   "execution_count": null,
   "metadata": {},
   "outputs": [],
   "source": [
    "df.link.str.extract('(.*)/(\\d+)')"
   ]
  },
  {
   "cell_type": "code",
   "execution_count": null,
   "metadata": {},
   "outputs": [],
   "source": [
    "df.link.str.extract('(?P<URL>.*)/(?P<ID>\\d+)')"
   ]
  }
 ],
 "metadata": {
  "kernelspec": {
   "display_name": "Python 3",
   "language": "python",
   "name": "python3"
  },
  "language_info": {
   "codemirror_mode": {
    "name": "ipython",
    "version": 3
   },
   "file_extension": ".py",
   "mimetype": "text/x-python",
   "name": "python",
   "nbconvert_exporter": "python",
   "pygments_lexer": "ipython3",
   "version": "3.6.5"
  }
 },
 "nbformat": 4,
 "nbformat_minor": 2
}
