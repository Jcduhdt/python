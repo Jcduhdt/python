{
 "cells": [
  {
   "cell_type": "code",
   "execution_count": 1,
   "metadata": {
    "collapsed": true
   },
   "outputs": [],
   "source": [
    "#教程url = https://blog.csdn.net/c406495762/article/details/59488464\n",
    "#添加异常捕获可进行相应错误提醒\n",
    "#可根据不同错误进行相应处理，可以使程序更强壮，普适性更强\n",
    "from urllib import request\n",
    "from urllib import error"
   ]
  },
  {
   "cell_type": "code",
   "execution_count": 2,
   "metadata": {
    "collapsed": false
   },
   "outputs": [
    {
     "name": "stdout",
     "output_type": "stream",
     "text": [
      "[Errno 11002] getaddrinfo failed\n"
     ]
    }
   ],
   "source": [
    "#一个不存在的连接\n",
    "target = 'http://www.iloveyou.com/'\n",
    "req = request.Request(target)\n",
    "#把可能发生错误的语句放在try模块，用except来处理异常\n",
    "#这样程序就不会因为异常而中断，后面的语句可以执行\n",
    "#每一个try都必须至少有一个except\n",
    "#try...except...else,当没有发生异常时，else中语句执行\n",
    "try:\n",
    "    response = request.urlopen(req)\n",
    "    html = response.read().decode('utf-8')\n",
    "    print(html)\n",
    "except error.URLError as e:\n",
    "    print(e.reason)"
   ]
  },
  {
   "cell_type": "code",
   "execution_count": 3,
   "metadata": {
    "collapsed": false
   },
   "outputs": [
    {
     "name": "stdout",
     "output_type": "stream",
     "text": [
      "404\n"
     ]
    }
   ],
   "source": [
    "#HTTPerror\n",
    "#www.douyu.com是存在的\n",
    "#而后面这个cainiao。html这个资源是没有的\n",
    "target = 'http://www.douyu.com/cainiao.html'\n",
    "req = request.Request(target)\n",
    "try:\n",
    "    response = request.urlopen(req)\n",
    "except error.HTTPError as e:\n",
    "    print(e.code)"
   ]
  },
  {
   "cell_type": "code",
   "execution_count": 4,
   "metadata": {
    "collapsed": false
   },
   "outputs": [
    {
     "name": "stdout",
     "output_type": "stream",
     "text": [
      "HTTPError\n",
      "404\n"
     ]
    }
   ],
   "source": [
    "#urlerror 和 httperror混用，必须httperror在前，因为httperror是urlerror的一个子类\n",
    "#如果urlerror在前就会响应urlerror而捕获不到httperror\n",
    "\n",
    "target = 'http://www.douyu.com/cainiao.html'\n",
    "req = request.Request(target)\n",
    "try:\n",
    "    response = request.urlopen(req)\n",
    "except error.HTTPError as e:\n",
    "    print('HTTPError')\n",
    "    print(e.code)\n",
    "except error.URLError as e:\n",
    "    print('URLError')\n",
    "    print(e.reason)"
   ]
  },
  {
   "cell_type": "code",
   "execution_count": 5,
   "metadata": {
    "collapsed": false
   },
   "outputs": [
    {
     "name": "stdout",
     "output_type": "stream",
     "text": [
      "HTTPError\n",
      "404\n"
     ]
    }
   ],
   "source": [
    "#用hasattr函数判断URLError含有的属性\n",
    "#若含有reason表明为URLError，含有code表明为HTTPError\n",
    "target = 'http://www.douyu.com/cainiao.html'\n",
    "req = request.Request(target)\n",
    "try:\n",
    "    response = request.urlopen(req)\n",
    "except error.URLError as e:\n",
    "    if hasattr(e,'code'):\n",
    "        print('HTTPError')\n",
    "        print(e.code)\n",
    "    elif hasattr(e,'reason'):\n",
    "        print('URLError')\n",
    "        print(e.reason)"
   ]
  },
  {
   "cell_type": "code",
   "execution_count": null,
   "metadata": {
    "collapsed": true
   },
   "outputs": [],
   "source": [
    "#这里让我对if __name__ == '__main__':有点懵\n",
    "#每个cell都可以使用而不相互影响\n",
    "#但是都去掉也行，这个是用在一个整体文件上的吗"
   ]
  }
 ],
 "metadata": {
  "anaconda-cloud": {},
  "kernelspec": {
   "display_name": "Python [default]",
   "language": "python",
   "name": "python3"
  },
  "language_info": {
   "codemirror_mode": {
    "name": "ipython",
    "version": 3
   },
   "file_extension": ".py",
   "mimetype": "text/x-python",
   "name": "python",
   "nbconvert_exporter": "python",
   "pygments_lexer": "ipython3",
   "version": "3.5.2"
  }
 },
 "nbformat": 4,
 "nbformat_minor": 1
}
