{
 "cells": [
  {
   "cell_type": "code",
   "execution_count": 1,
   "metadata": {
    "collapsed": true
   },
   "outputs": [],
   "source": [
    "from selenium import webdriver"
   ]
  },
  {
   "cell_type": "code",
   "execution_count": 2,
   "metadata": {
    "collapsed": false
   },
   "outputs": [
    {
     "name": "stderr",
     "output_type": "stream",
     "text": [
      "D:\\Anaconda3\\lib\\site-packages\\selenium\\webdriver\\phantomjs\\webdriver.py:49: UserWarning: Selenium support for PhantomJS has been deprecated, please use headless versions of Chrome or Firefox instead\n",
      "  warnings.warn('Selenium support for PhantomJS has been deprecated, please use headless '\n"
     ]
    },
    {
     "name": "stdout",
     "output_type": "stream",
     "text": [
      "[{'expires': '周一, 15 4月 2019 07:41:31 GMT', 'httponly': False, 'path': '/', 'expiry': 1555314091, 'domain': '.pythonscraping.com', 'value': 'GA1.2.264938318.1555227692', 'name': '_gid', 'secure': False}, {'expires': '周二, 13 4月 2021 07:41:31 GMT', 'httponly': False, 'path': '/', 'expiry': 1618299691, 'domain': '.pythonscraping.com', 'value': 'GA1.2.887259085.1555227692', 'name': '_ga', 'secure': False}, {'domain': 'pythonscraping.com', 'httponly': False, 'path': '/', 'value': '1', 'name': 'has_js', 'secure': False}]\n"
     ]
    }
   ],
   "source": [
    "if __name__ == \"__main__\":\n",
    "    url = 'http://pythonscraping.com'\n",
    "    # phantomjs 是一个无头浏览器，\n",
    "    # 它会把网站加载到内存并执行页面上的 JavaScript，但不会向用户展示网页的图形界面。\n",
    "    driver = webdriver.PhantomJS(executable_path='D:/phantomjs/bin/phantomjs.exe')\n",
    "    driver.get(url)\n",
    "    \"\"\" 隐式等待\n",
    "    当使用了隐式等待执行测试的时候，如果 WebDriver没有在 DOM中找到元素，\n",
    "    将继续等待，超出设定时间后则抛出找不到元素的异常\n",
    "    换句话说，当查找元素或元素并没有立即出现的时候\n",
    "    隐式等待将等待一段时间再查找 DOM，默认的时间是0\n",
    "    一旦设置了隐式等待，则它存在整个 WebDriver 对象实例的声明周期中，\n",
    "    隐式的等到会让一个正常响应的应用的测试变慢\n",
    "    它将会在寻找每个元素的时候都进行等待，这样会增加整个测试执行的时间\n",
    "    \"\"\"\n",
    "    driver.implicitly_wait(1)\n",
    "    print(driver.get_cookies())"
   ]
  },
  {
   "cell_type": "code",
   "execution_count": null,
   "metadata": {
    "collapsed": true
   },
   "outputs": [],
   "source": []
  }
 ],
 "metadata": {
  "anaconda-cloud": {},
  "kernelspec": {
   "display_name": "Python [default]",
   "language": "python",
   "name": "python3"
  },
  "language_info": {
   "codemirror_mode": {
    "name": "ipython",
    "version": 3
   },
   "file_extension": ".py",
   "mimetype": "text/x-python",
   "name": "python",
   "nbconvert_exporter": "python",
   "pygments_lexer": "ipython3",
   "version": "3.5.2"
  }
 },
 "nbformat": 4,
 "nbformat_minor": 1
}
