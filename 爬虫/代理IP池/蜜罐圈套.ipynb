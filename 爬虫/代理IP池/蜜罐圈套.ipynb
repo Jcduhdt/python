{
 "cells": [
  {
   "cell_type": "code",
   "execution_count": 1,
   "metadata": {
    "collapsed": true
   },
   "outputs": [],
   "source": [
    "from selenium import webdriver"
   ]
  },
  {
   "cell_type": "code",
   "execution_count": 2,
   "metadata": {
    "collapsed": false
   },
   "outputs": [
    {
     "name": "stderr",
     "output_type": "stream",
     "text": [
      "D:\\Anaconda3\\lib\\site-packages\\selenium\\webdriver\\phantomjs\\webdriver.py:49: UserWarning: Selenium support for PhantomJS has been deprecated, please use headless versions of Chrome or Firefox instead\n",
      "  warnings.warn('Selenium support for PhantomJS has been deprecated, please use headless '\n"
     ]
    },
    {
     "name": "stdout",
     "output_type": "stream",
     "text": [
      "链接：http://pythonscraping.com/dontgohere 是一个蜜罐圈套.\n",
      "不要改变phone的值.\n",
      "不要改变email的值.\n"
     ]
    }
   ],
   "source": [
    "if __name__ == \"__main__\":\n",
    "    # 该网站是一个给我们python爬虫学习的一个网站\n",
    "    # 这个页面包含了两个链接，一个通过 CSS 隐含了，另一个是可见的。\n",
    "    # 另外，页面上还包括两个隐含字段\n",
    "    # 第一个链接是通过简单的 CSS 属性设置 display:none 进行隐藏\n",
    "    # 电话号码字段 name=”phone” 是一个隐含的输入字段\n",
    "    # 邮箱地址字段 name=”email” 是将元素向右移动 50 000 像素\n",
    "    #（应该会超出电脑显示器的边界）并隐藏滚动条\n",
    "    # 因为 Selenium 可以获取访问页面的内容，所以它可以区分页面上的可见元素与隐含元素。\n",
    "    # 通过 is_displayed() 可以判断元素在页面上是否可见\n",
    "    url = 'http://pythonscraping.com/pages/itsatrap.html'\n",
    "    driver = webdriver.PhantomJS(executable_path='D:/phantomjs/bin/phantomjs.exe')\n",
    "    driver.get(url)\n",
    "    links = driver.find_elements_by_tag_name('a')\n",
    "    for link in links:\n",
    "        if not link.is_displayed():\n",
    "            print('链接：'+link.get_attribute('href')+' 是一个蜜罐圈套.')\n",
    "            \n",
    "    fields = driver.find_elements_by_tag_name('input')\n",
    "    for field in fields:\n",
    "        if not field.is_displayed():\n",
    "            print('不要改变' + field.get_attribute('name') + '的值.')"
   ]
  },
  {
   "cell_type": "code",
   "execution_count": null,
   "metadata": {
    "collapsed": true
   },
   "outputs": [],
   "source": []
  }
 ],
 "metadata": {
  "kernelspec": {
   "display_name": "Python [default]",
   "language": "python",
   "name": "python3"
  },
  "language_info": {
   "codemirror_mode": {
    "name": "ipython",
    "version": 3
   },
   "file_extension": ".py",
   "mimetype": "text/x-python",
   "name": "python",
   "nbconvert_exporter": "python",
   "pygments_lexer": "ipython3",
   "version": "3.5.2"
  }
 },
 "nbformat": 4,
 "nbformat_minor": 1
}
