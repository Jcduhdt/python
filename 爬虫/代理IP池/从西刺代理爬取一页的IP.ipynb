{
 "cells": [
  {
   "cell_type": "code",
   "execution_count": 1,
   "metadata": {
    "collapsed": true
   },
   "outputs": [],
   "source": [
    "import requests\n",
    "from bs4 import BeautifulSoup\n",
    "from lxml import etree"
   ]
  },
  {
   "cell_type": "code",
   "execution_count": 2,
   "metadata": {
    "collapsed": false
   },
   "outputs": [],
   "source": [
    "if __name__ == \"__main__\":\n",
    "    page = 1\n",
    "    S = requests.Session()\n",
    "    target_url = 'https://www.xicidaili.com/nn/%d' % page\n",
    "    target_headers = {\n",
    "        'Upgrade-Insecure-Requests':'1',\n",
    "        'User-Agent':'Mozilla/5.0 (Windows NT 6.1; Win64; x64) AppleWebKit/537.36 (KHTML, like Gecko) Chrome/58.0.3029.110 Safari/537.36',\n",
    "        'Accept':'text/html,application/xhtml+xml,application/xml;q=0.9,image/webp,*/*;q=0.8',\n",
    "        'Referer':'http://www.xicidaili.com/nn/',\n",
    "        'Accept-Encoding':'gzip, deflate, sdch',\n",
    "        'Accept-Language':'zh-CN,zh;q=0.8',\n",
    "    }\n",
    "    target_response = S.get(url = target_url, headers = target_headers)\n",
    "    target_response.encoding = 'utf-8'\n",
    "    target_html = target_response.text\n",
    "    bf1_ip_list = BeautifulSoup(target_html, 'lxml')\n",
    "    # 为什么要两次soup\n",
    "    bf2_ip_list = BeautifulSoup(str(bf1_ip_list.find_all(id = 'ip_list')), 'lxml')\n",
    "    # 将直接子节点存为一个列表，子节点包括了换行 /n\n",
    "    ip_list_info = bf2_ip_list.table.contents\n",
    "\n",
    "    proxys_list = []\n",
    "    for index in range(len(ip_list_info)):\n",
    "        if index % 2 == 1 and index != 1:\n",
    "            dom = etree.HTML(str(ip_list_info[index]))\n",
    "            # 为什么不是0开始了。\n",
    "            ip = dom.xpath('//td[2]')\n",
    "            port = dom.xpath('//td[3]')\n",
    "            protocol = dom.xpath('//td[6]')\n",
    "            # 这些[0]又是什么意思。\n",
    "            proxys_list.append(protocol[0].text.lower() + '#' + ip[0].text + '#' + port[0].text)\n",
    "    #print(proxys_list)"
   ]
  },
  {
   "cell_type": "code",
   "execution_count": null,
   "metadata": {
    "collapsed": true
   },
   "outputs": [],
   "source": []
  }
 ],
 "metadata": {
  "anaconda-cloud": {},
  "kernelspec": {
   "display_name": "Python [default]",
   "language": "python",
   "name": "python3"
  },
  "language_info": {
   "codemirror_mode": {
    "name": "ipython",
    "version": 3
   },
   "file_extension": ".py",
   "mimetype": "text/x-python",
   "name": "python",
   "nbconvert_exporter": "python",
   "pygments_lexer": "ipython3",
   "version": "3.5.2"
  }
 },
 "nbformat": 4,
 "nbformat_minor": 1
}
