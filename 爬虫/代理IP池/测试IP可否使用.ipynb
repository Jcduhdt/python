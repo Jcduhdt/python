{
 "cells": [
  {
   "cell_type": "code",
   "execution_count": 1,
   "metadata": {
    "collapsed": true
   },
   "outputs": [],
   "source": [
    "import subprocess as sp"
   ]
  },
  {
   "cell_type": "code",
   "execution_count": 2,
   "metadata": {
    "collapsed": false
   },
   "outputs": [
    {
     "name": "stdout",
     "output_type": "stream",
     "text": [
      "\r\n",
      "正在 Ping 218.87.192.194 具有 32 字节的数据:\r\n",
      "来自 218.87.192.194 的回复: 字节=32 时间=55ms TTL=50\r\n",
      "来自 218.87.192.194 的回复: 字节=32 时间=55ms TTL=50\r\n",
      "来自 218.87.192.194 的回复: 字节=32 时间=55ms TTL=50\r\n",
      "\r\n",
      "218.87.192.194 的 Ping 统计信息:\r\n",
      "    数据包: 已发送 = 3，已接收 = 3，丢失 = 0 (0% 丢失)，\r\n",
      "往返行程的估计时间(以毫秒为单位):\r\n",
      "    最短 = 55ms，最长 = 55ms，平均 = 55ms\r\n",
      "\n"
     ]
    }
   ],
   "source": [
    "# 通过测试本机与代理ip连通性，了解该ip的健康情况\n",
    "# Subprocess.Popen()创建一个进程，shell=True时，程序通过shell进行\n",
    "# 具体看 https://blog.csdn.net/c406495762/article/details/72793480\n",
    "if __name__ == \"__main__\":\n",
    "    cmd = 'ping -n 3 -w 3 %s'\n",
    "    ip = '218.87.192.194'\n",
    "    # std in out err 是程序的标准输入/输出/错误句柄\n",
    "    p = sp.Popen(cmd % ip, stdin=sp.PIPE, stdout=sp.PIPE, stderr=sp.PIPE, shell=True)\n",
    "    \n",
    "    out = p.stdout.read().decode('gbk')\n",
    "    print(out)"
   ]
  },
  {
   "cell_type": "code",
   "execution_count": null,
   "metadata": {
    "collapsed": true
   },
   "outputs": [],
   "source": []
  }
 ],
 "metadata": {
  "kernelspec": {
   "display_name": "Python [default]",
   "language": "python",
   "name": "python3"
  },
  "language_info": {
   "codemirror_mode": {
    "name": "ipython",
    "version": 3
   },
   "file_extension": ".py",
   "mimetype": "text/x-python",
   "name": "python",
   "nbconvert_exporter": "python",
   "pygments_lexer": "ipython3",
   "version": "3.5.2"
  }
 },
 "nbformat": 4,
 "nbformat_minor": 1
}
