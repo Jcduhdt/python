{
 "cells": [
  {
   "cell_type": "code",
   "execution_count": 1,
   "metadata": {
    "collapsed": true
   },
   "outputs": [],
   "source": [
    "# 线程模块 \n",
    "# import threading\n",
    "import _thread\n",
    "import time"
   ]
  },
  {
   "cell_type": "code",
   "execution_count": 2,
   "metadata": {
    "collapsed": false
   },
   "outputs": [
    {
     "name": "stdout",
     "output_type": "stream",
     "text": [
      "Thread-1: Wed Apr 17 20:53:53 2019\n",
      "Thread-2: Wed Apr 17 20:53:55 2019\n",
      "Thread-1: Wed Apr 17 20:53:55 2019\n",
      "Thread-1: Wed Apr 17 20:53:57 2019\n",
      "Thread-2: Wed Apr 17 20:53:59 2019\n",
      "Thread-1: Wed Apr 17 20:53:59 2019\n",
      "Thread-1: Wed Apr 17 20:54:01 2019\n",
      "Thread-2: Wed Apr 17 20:54:03 2019\n",
      "Thread-1: Wed Apr 17 20:54:03 2019\n",
      "Thread-2: Wed Apr 17 20:54:07 2019\n",
      "Thread-2: Wed Apr 17 20:54:11 2019\n",
      "Thread-2: Wed Apr 17 20:54:15 2019\n"
     ]
    }
   ],
   "source": [
    "# 为线程定义函数\n",
    "def print_time(thread_name,delay):\n",
    "    count = 0\n",
    "    while count <= 5:\n",
    "        time.sleep(delay)\n",
    "        count += 1\n",
    "        # time.ctime([sec]) sec为要转换为字符串时间的秒数\n",
    "        # 把一个时间戳转化成time.asctimr()形式\n",
    "        # [sec]不填时默认为time.time()\n",
    "        # time.time()返回当前时间的时间戳（1970纪元后经过的浮点秒数）\n",
    "        print(\"%s: %s\" % (thread_name,time.ctime(time.time())))\n",
    "\n",
    "# 创建两个线程\n",
    "# .start_new_thread 开启新线程\n",
    "# (线程函数，传递给线程函数的参数，必须是个tuple类型)\n",
    "try:\n",
    "    _thread.start_new_thread(print_time,(\"Thread-1\",2))\n",
    "    _thread.start_new_thread(print_time,(\"Thread-2\",4))\n",
    "except:\n",
    "    print(\"Error: 无法启动线程\")\n"
   ]
  },
  {
   "cell_type": "code",
   "execution_count": null,
   "metadata": {
    "collapsed": true
   },
   "outputs": [],
   "source": []
  }
 ],
 "metadata": {
  "anaconda-cloud": {},
  "kernelspec": {
   "display_name": "Python [default]",
   "language": "python",
   "name": "python3"
  },
  "language_info": {
   "codemirror_mode": {
    "name": "ipython",
    "version": 3
   },
   "file_extension": ".py",
   "mimetype": "text/x-python",
   "name": "python",
   "nbconvert_exporter": "python",
   "pygments_lexer": "ipython3",
   "version": "3.5.2"
  }
 },
 "nbformat": 4,
 "nbformat_minor": 1
}
