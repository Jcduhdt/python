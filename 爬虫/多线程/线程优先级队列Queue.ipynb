{
 "cells": [
  {
   "cell_type": "code",
   "execution_count": 1,
   "metadata": {
    "collapsed": true
   },
   "outputs": [],
   "source": [
    "import queue\n",
    "import threading\n",
    "import time"
   ]
  },
  {
   "cell_type": "code",
   "execution_count": 7,
   "metadata": {
    "collapsed": false
   },
   "outputs": [
    {
     "name": "stdout",
     "output_type": "stream",
     "text": [
      "开启线程：Thread-1\n",
      "开启线程：Thread-2\n",
      "开启线程：Thread-3\n",
      "Thread-1 processing One\n",
      "Thread-3 processing Two\n",
      "Thread-2 processing Three\n",
      "Thread-2 processing FourThread-3 processing Five\n",
      "\n",
      "退出线程：Thread-2退出线程：Thread-3\n",
      "\n",
      "退出线程：Thread-1\n",
      "退出主线程\n"
     ]
    }
   ],
   "source": [
    "#   看不懂！！！！！！！！！！！！！！\n",
    "exitFlag = 0\n",
    "\n",
    "class myThread (threading.Thread):\n",
    "    \n",
    "    def __init__(self, threadID, name, q):\n",
    "        threading.Thread.__init__(self)\n",
    "        self.threadID = threadID\n",
    "        self.name = name\n",
    "        self.q = q\n",
    "        \n",
    "    def run(self):\n",
    "        print (\"开启线程：\" + self.name)\n",
    "        process_data(self.name, self.q)\n",
    "        print (\"退出线程：\" + self.name)\n",
    "\n",
    "def process_data(threadName, q):\n",
    "    while not exitFlag:\n",
    "        queueLock.acquire()\n",
    "        if not workQueue.empty():# .empty()队列为空返回True 反之False\n",
    "            data = q.get() # 获取队列\n",
    "            queueLock.release()\n",
    "            print (\"%s processing %s\" % (threadName, data))\n",
    "        else:\n",
    "            queueLock.release()\n",
    "        time.sleep(1)\n",
    "\n",
    "threadList = [\"Thread-1\", \"Thread-2\", \"Thread-3\"]\n",
    "nameList = [\"One\", \"Two\", \"Three\", \"Four\", \"Five\"]\n",
    "queueLock = threading.Lock()\n",
    "workQueue = queue.Queue(10) # 队列的同步实现 （队列长度）\n",
    "threads = []\n",
    "threadID = 1\n",
    "\n",
    "\n",
    "# 创建新线程\n",
    "for tName in threadList:\n",
    "    thread = myThread(threadID, tName, workQueue)\n",
    "    thread.start()\n",
    "    threads.append(thread)\n",
    "    threadID += 1\n",
    "\n",
    "    # 填充队列\n",
    "queueLock.acquire()\n",
    "for word in nameList:\n",
    "    workQueue.put(word) # .put()写入队列\n",
    "queueLock.release()\n",
    "\n",
    "# 等待队列清空\n",
    "while not workQueue.empty():\n",
    "    pass\n",
    "\n",
    "# 通知线程是时候退出\n",
    "exitFlag = 1\n",
    "\n",
    "# 等待所有线程完成\n",
    "for t in threads:\n",
    "    t.join()\n",
    "print (\"退出主线程\")"
   ]
  },
  {
   "cell_type": "code",
   "execution_count": null,
   "metadata": {
    "collapsed": true
   },
   "outputs": [],
   "source": []
  },
  {
   "cell_type": "code",
   "execution_count": null,
   "metadata": {
    "collapsed": true
   },
   "outputs": [],
   "source": []
  }
 ],
 "metadata": {
  "anaconda-cloud": {},
  "kernelspec": {
   "display_name": "Python [default]",
   "language": "python",
   "name": "python3"
  },
  "language_info": {
   "codemirror_mode": {
    "name": "ipython",
    "version": 3
   },
   "file_extension": ".py",
   "mimetype": "text/x-python",
   "name": "python",
   "nbconvert_exporter": "python",
   "pygments_lexer": "ipython3",
   "version": "3.5.2"
  }
 },
 "nbformat": 4,
 "nbformat_minor": 1
}
