{
 "cells": [
  {
   "cell_type": "code",
   "execution_count": 1,
   "metadata": {
    "collapsed": true
   },
   "outputs": [],
   "source": [
    "import threading\n",
    "import time"
   ]
  },
  {
   "cell_type": "code",
   "execution_count": 3,
   "metadata": {
    "collapsed": false
   },
   "outputs": [
    {
     "name": "stdout",
     "output_type": "stream",
     "text": [
      "开始线程：Thread-1\n",
      "开始线程：Thread-2\n",
      "Thread-1 : Wed Apr 17 21:29:22 2019\n",
      "Thread-1 : Wed Apr 17 21:29:23 2019\n",
      "Thread-1 : Wed Apr 17 21:29:24 2019\n",
      "退出线程：Thread-1\n",
      "Thread-2 : Wed Apr 17 21:29:26 2019\n",
      "Thread-2 : Wed Apr 17 21:29:28 2019\n",
      "Thread-2 : Wed Apr 17 21:29:30 2019\n",
      "退出线程：Thread-2\n",
      "退出主线程\n"
     ]
    }
   ],
   "source": [
    "'''\n",
    "避免多个线程对同一数据进行同时修改\n",
    "每当一个线程比如\"线程A\"要访问共享数据时，必须先获得锁定；\n",
    "如果已经有别的线程比如\"线程B\"获得锁定了，那么就让线程\"A\"暂停，\n",
    "也就是同步阻塞；等到线程\"B\"访问完毕，释放锁以后，再让线程\"A\"继续\n",
    "'''\n",
    "\n",
    "# 从threading.Thread继承创建新子类\n",
    "# 实例化后调用start()启动新线程，即调用线程的run()\n",
    "class myThread(threading.Thread):\n",
    "    \n",
    "    def __init__(self,threadID,name,counter):\n",
    "        threading.Thread.__init__(self)\n",
    "        self.threadID = threadID\n",
    "        self.name = name\n",
    "        self.counter = counter\n",
    "      \n",
    "    # 这个 run 有点看不懂,是因为用了父辈的start()\n",
    "    # 而start()里面是运行 run() 这个函数？ 感觉像是\n",
    "    def run(self): # 用以表示线程活动方法\n",
    "        print(\"开始线程：\" + self.name)\n",
    "        # 获取锁，用于线程同步\n",
    "        threadLock.acquire()\n",
    "        print_time(self.name,self.counter,3)\n",
    "        # 释放锁，开启下一个线程\n",
    "        threadLock.release()\n",
    "        print(\"退出线程：\" + self.name)\n",
    "        \n",
    "def print_time(threadname,delay,counter):\n",
    "    while counter:\n",
    "        time.sleep(delay)\n",
    "        print(\"%s : %s\" % (threadname,time.ctime()))\n",
    "        counter -= 1\n",
    "\n",
    "threadLock = threading.Lock()\n",
    "threads = [] \n",
    "\n",
    "# 创建新线程\n",
    "thread1 = myThread(1,\"Thread-1\",1)\n",
    "thread2 = myThread(2,\"Thread-2\",2)\n",
    "\n",
    "# 开启新线程\n",
    "thread1.start()\n",
    "thread2.start()\n",
    "\n",
    "# 添加线程到线程列表\n",
    "threads.append(thread1)\n",
    "threads.append(thread2)\n",
    "\n",
    "for t in threads:\n",
    "    t.join()\n",
    "    \n",
    "# 就是打印这句话在两个线程都退出后\n",
    "print(\"退出主线程\")"
   ]
  },
  {
   "cell_type": "code",
   "execution_count": null,
   "metadata": {
    "collapsed": true
   },
   "outputs": [],
   "source": []
  }
 ],
 "metadata": {
  "kernelspec": {
   "display_name": "Python [default]",
   "language": "python",
   "name": "python3"
  },
  "language_info": {
   "codemirror_mode": {
    "name": "ipython",
    "version": 3
   },
   "file_extension": ".py",
   "mimetype": "text/x-python",
   "name": "python",
   "nbconvert_exporter": "python",
   "pygments_lexer": "ipython3",
   "version": "3.5.2"
  }
 },
 "nbformat": 4,
 "nbformat_minor": 1
}
