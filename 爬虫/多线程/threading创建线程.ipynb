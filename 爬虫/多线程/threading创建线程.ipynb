{
 "cells": [
  {
   "cell_type": "code",
   "execution_count": 1,
   "metadata": {
    "collapsed": true
   },
   "outputs": [],
   "source": [
    "# 感觉这个有点麻烦\n",
    "import threading\n",
    "import time"
   ]
  },
  {
   "cell_type": "code",
   "execution_count": 2,
   "metadata": {
    "collapsed": false
   },
   "outputs": [
    {
     "name": "stdout",
     "output_type": "stream",
     "text": [
      "开始线程：Thread-1\n",
      "开始线程：Thread-2\n",
      "Thread-1 : Wed Apr 17 21:03:22 2019\n",
      "Thread-2 : Wed Apr 17 21:03:23 2019\n",
      "Thread-1 : Wed Apr 17 21:03:23 2019\n",
      "Thread-1 : Wed Apr 17 21:03:24 2019\n",
      "Thread-2 : Wed Apr 17 21:03:25 2019\n",
      "Thread-1 : Wed Apr 17 21:03:25 2019\n",
      "Thread-1 : Wed Apr 17 21:03:26 2019\n",
      "退出线程：Thread-1\n",
      "Thread-2 : Wed Apr 17 21:03:27 2019\n",
      "Thread-2 : Wed Apr 17 21:03:29 2019\n",
      "Thread-2 : Wed Apr 17 21:03:31 2019\n",
      "退出线程：Thread-2\n",
      "推出主线程\n"
     ]
    }
   ],
   "source": [
    "# 看不懂个这个的作用\n",
    "exitFlag = 0\n",
    "\n",
    "# 从threading.Thread继承创建新子类\n",
    "# 实例化后调用start()启动新线程，即调用线程的run()\n",
    "class myThread(threading.Thread):\n",
    "    \n",
    "    def __init__(self,threadID,name,counter):\n",
    "        threading.Thread.__init__(self)\n",
    "        self.threadID = threadID\n",
    "        self.name = name\n",
    "        self.counter = counter\n",
    "      \n",
    "    # 这个 run 有点看不懂,是因为用了父辈的start()\n",
    "    # 而start()里面是运行 run() 这个函数？ 感觉像是\n",
    "    def run(self): # 用以表示线程活动方法\n",
    "        print(\"开始线程：\" + self.name)\n",
    "        print_time(self.name,self.counter,5)\n",
    "        print(\"退出线程：\" + self.name)\n",
    "        \n",
    "def print_time(threadname,delay,counter):\n",
    "    while counter:\n",
    "        if exitFlag:\n",
    "            threadname.exit()\n",
    "        time.sleep(delay)\n",
    "        print(\"%s : %s\" % (threadname,time.ctime()))\n",
    "        counter -= 1\n",
    "\n",
    "# 创建新线程\n",
    "thread1 = myThread(1,\"Thread-1\",1)\n",
    "thread2 = myThread(2,\"Thread-2\",2)\n",
    "\n",
    "# 开启新线程\n",
    "thread1.start()\n",
    "thread2.start()\n",
    "# 等待至线程中止。这阻塞调用线程直至线程的join()方法被调用中止-正常退出\n",
    "# 或者抛出未处理的异常-或者是可选的超时发生。\n",
    "thread1.join()\n",
    "thread2.join()\n",
    "# 就是打印这句话在两个线程都退出后\n",
    "print(\"退出主线程\")"
   ]
  },
  {
   "cell_type": "code",
   "execution_count": null,
   "metadata": {
    "collapsed": true
   },
   "outputs": [],
   "source": []
  }
 ],
 "metadata": {
  "kernelspec": {
   "display_name": "Python [default]",
   "language": "python",
   "name": "python3"
  },
  "language_info": {
   "codemirror_mode": {
    "name": "ipython",
    "version": 3
   },
   "file_extension": ".py",
   "mimetype": "text/x-python",
   "name": "python",
   "nbconvert_exporter": "python",
   "pygments_lexer": "ipython3",
   "version": "3.5.2"
  }
 },
 "nbformat": 4,
 "nbformat_minor": 1
}
