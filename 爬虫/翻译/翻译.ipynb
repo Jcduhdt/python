{
 "cells": [
  {
   "cell_type": "code",
   "execution_count": 1,
   "metadata": {
    "collapsed": true
   },
   "outputs": [],
   "source": [
    "#参考教程url：https://blog.csdn.net/c406495762/article/details/59095864\n",
    "from urllib import request\n",
    "from urllib import parse\n",
    "import json"
   ]
  },
  {
   "cell_type": "code",
   "execution_count": 2,
   "metadata": {
    "collapsed": false
   },
   "outputs": [
    {
     "name": "stdout",
     "output_type": "stream",
     "text": [
      "please input the words you want to translate\n",
      "> 语言\n",
      "翻译结果是：language\n"
     ]
    }
   ],
   "source": [
    "if __name__ == \"__main__\":\n",
    "    #从浏览器中看到的request_url\n",
    "    #这里与教程不一样，看另一篇博客说是接口不一样\n",
    "    #可以是http://fanyi.youdao.com/translate\n",
    "    #也可以是如下这个，与教程区别是删掉了_o\n",
    "    request_url = 'http://fanyi.youdao.com/translate?smartresult=dict&smartresult=rule'\n",
    "    print('please input the words you want to translate')\n",
    "    i = input('> ')\n",
    "    #创建字典，直接F12 从network中的Form data这段创建\n",
    "    #似乎只有使用chrome浏览器才能从network中看到Form data这个东西\n",
    "    #这个字典里的from就是自动检测输入的语言类型\n",
    "    #to就是需要翻译成的语言类型 比如en代表英文 zh-CHS代表中文\n",
    "    # 从源代码里可以看出来\n",
    "    #但是为什么，我把from改成了zh-CHS,to改成了en，进行英译汉还是可以\n",
    "    Form_data = {}\n",
    "    Form_data['i'] = i\n",
    "    Form_data['from'] = 'AUTO'\n",
    "    Form_data['to'] = 'AUTO'\n",
    "    Form_data['smartresult'] = 'dict'\n",
    "    Form_data['client'] = 'fanyideskweb'\n",
    "    Form_data['salt'] = '15540152965966'\n",
    "    Form_data['sign'] = '9eb8551116eb5409912ebb3a46da83e1'\n",
    "    Form_data['ts'] = '1554015296596'\n",
    "    Form_data['bv'] = '1e9538f95b23257ede9acdc941c8e1f8'\n",
    "    Form_data['doctype'] = 'json'\n",
    "    Form_data['version'] = '2.1'\n",
    "    Form_data['keyfrom'] = 'fanyi.web'\n",
    "    Form_data['action'] = 'FY_BY_REALTlME'\n",
    "    Form_data['typoResult'] = 'false'\n",
    "    #使用urlencode方法转换标准格式\n",
    "    #parse.urlencode()，括号中为字典形式数据\n",
    "    data = parse.urlencode(Form_data).encode('utf-8')\n",
    "    #传递request对象和转换格式的数据\n",
    "    #data被赋值，请求方式由get转到post，post需要提供一些待处理的数据\n",
    "    #而这些待处理的数据需要一定格式，所以需要parse.urlencode\n",
    "    response = request.urlopen(request_url,data)\n",
    "    #读取信息并解码\n",
    "    html = response.read().decode('utf-8')\n",
    "    #使用json\n",
    "    #json.loads将st类型数据转换成dict\n",
    "    translate_results = json.loads(html)\n",
    "    #找到翻译结果\n",
    "    #josn的结果取值，看看json结构 现在还没看\n",
    "    translate_results = translate_results['translateResult'][0][0]['tgt']\n",
    "    print('翻译结果是：%s' %translate_results)"
   ]
  },
  {
   "cell_type": "code",
   "execution_count": null,
   "metadata": {
    "collapsed": true
   },
   "outputs": [],
   "source": [
    "#这个流程应为\n",
    "#1：得到翻译的url接口\n",
    "#2：创建必须的字典\n",
    "#3：对字典数据进行编码，用于第四步的upload\n",
    "#4：向目标网址进行post得到回应\n",
    "#5：读取网站的回应并解码\n",
    "#6：json转换结构输出，我现在只是了解有json这个东西，具体干嘛的还不知道"
   ]
  }
 ],
 "metadata": {
  "kernelspec": {
   "display_name": "Python [default]",
   "language": "python",
   "name": "python3"
  },
  "language_info": {
   "codemirror_mode": {
    "name": "ipython",
    "version": 3
   },
   "file_extension": ".py",
   "mimetype": "text/x-python",
   "name": "python",
   "nbconvert_exporter": "python",
   "pygments_lexer": "ipython3",
   "version": "3.5.2"
  }
 },
 "nbformat": 4,
 "nbformat_minor": 1
}
