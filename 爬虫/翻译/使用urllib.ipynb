{
 "cells": [
  {
   "cell_type": "code",
   "execution_count": 1,
   "metadata": {
    "collapsed": true
   },
   "outputs": [],
   "source": [
    "# -*- coding;utf-8 -*-\n",
    "from urllib import request"
   ]
  },
  {
   "cell_type": "code",
   "execution_count": 2,
   "metadata": {
    "collapsed": false
   },
   "outputs": [
    {
     "name": "stdout",
     "output_type": "stream",
     "text": [
      "geturl打印信息：http://fanyi.youdao.com/\n",
      "*****************************\n",
      "info打印信息：Server: Tengine\n",
      "Date: Sun, 31 Mar 2019 08:09:05 GMT\n",
      "Content-Type: text/html; charset=utf-8\n",
      "Transfer-Encoding: chunked\n",
      "Connection: close\n",
      "Vary: Accept-Encoding\n",
      "Vary: Accept-Encoding\n",
      "Cache-Control: no-cache\n",
      "Content-Language: en-US\n",
      "Expires: Thu, 01 Dec 1994 16:00:00 GMT\n",
      "Set-Cookie: OUTFOX_SEARCH_USER_ID=623186535@10.168.8.76; domain=.youdao.com; expires=Tue, 23-Mar-2049 08:09:05 GMT\n",
      "Set-Cookie: JSESSIONID=aaaaZq2lo34gO_tb4YsNw; path=/\n",
      "\n",
      "\n",
      "*****************************\n",
      "getcode打印信息：200\n"
     ]
    }
   ],
   "source": [
    "if __name__ == \"__main__\":\n",
    "    target = 'http://fanyi.youdao.com/'\n",
    "    req = request.Request(target)\n",
    "    response = request.urlopen(req)\n",
    "    #返回url字符串\n",
    "    geturl = response.geturl()\n",
    "    #返回一些meta标记元信息，包括一些服务器信息\n",
    "    info = response.info()\n",
    "    #获取http状态码，200为请求成功 还有比如404\n",
    "    getcode = response.getcode()\n",
    "    print('geturl打印信息：%s'%(geturl))\n",
    "    print('*****************************')\n",
    "    print('info打印信息：%s'%(info))\n",
    "    print('*****************************')\n",
    "    print('getcode打印信息：%s'%(getcode))"
   ]
  },
  {
   "cell_type": "code",
   "execution_count": null,
   "metadata": {
    "collapsed": true
   },
   "outputs": [],
   "source": []
  }
 ],
 "metadata": {
  "kernelspec": {
   "display_name": "Python [default]",
   "language": "python",
   "name": "python3"
  },
  "language_info": {
   "codemirror_mode": {
    "name": "ipython",
    "version": 3
   },
   "file_extension": ".py",
   "mimetype": "text/x-python",
   "name": "python",
   "nbconvert_exporter": "python",
   "pygments_lexer": "ipython3",
   "version": "3.5.2"
  }
 },
 "nbformat": 4,
 "nbformat_minor": 1
}
