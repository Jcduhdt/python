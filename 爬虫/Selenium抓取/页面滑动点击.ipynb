{
 "cells": [
  {
   "cell_type": "code",
   "execution_count": 1,
   "metadata": {
    "collapsed": true
   },
   "outputs": [],
   "source": [
    "from selenium import webdriver\n",
    "import time"
   ]
  },
  {
   "cell_type": "code",
   "execution_count": 2,
   "metadata": {
    "collapsed": false
   },
   "outputs": [],
   "source": [
    "options = webdriver.ChromeOptions()\n",
    "options.add_argument('user-agent=\"Mozilla/5.0 (Linux; Android 4.0.4; Galaxy Nexus Build/IMM76B) AppleWebKit/535.19 (KHTML, like Gecko) Chrome/18.0.1025.133 Mobile Safari/535.19\"')\n",
    "driver = webdriver.Chrome()\n",
    "driver.get('https://wenku.baidu.com/view/aa452c19647d27284b7351fa?sxts=1543041112658')\n",
    "driver.maximize_window()\n",
    "time.sleep(1)"
   ]
  },
  {
   "cell_type": "code",
   "execution_count": 3,
   "metadata": {
    "collapsed": false
   },
   "outputs": [],
   "source": [
    "# 定位需要点击的元素 好像要定位到大一点的元素才能滑动到那\n",
    "# 因为是滑动这个模块的末尾，所以该模块在界面上被遮挡住了\n",
    "# 我就找到了上一模块，滑倒末尾，我们需要点击的模块就能在页面中看见了\n",
    "# 如果直接定位到 nextpage 就或发生错误\n",
    "page = driver.find_elements_by_xpath(\"//div[@class='banner-core-wrap super-vip']\")\n",
    "# 将网页滑动到相应的位置，因为到了那个位置才能点击\n",
    "driver.execute_script('arguments[0].scrollIntoView()',page[0])\n",
    "# 睡眠是为了避免机器检测\n",
    "time.sleep(1)"
   ]
  },
  {
   "cell_type": "code",
   "execution_count": 4,
   "metadata": {
    "collapsed": false
   },
   "outputs": [],
   "source": [
    "# 把窗口最大化，因为不这样会导致需要点击的元素\n",
    "# 在页面上被顶部一直存在的遮挡发生错误\n",
    "# 不过把整个程序拉通运行还是会发生错误\n",
    "# 每个cell手动一个一个运行还行\n",
    "# driver.maximize_window()\n",
    "nextpage = driver.find_element_by_xpath(\"//span[@class='moreBtn goBtn']\")\n",
    "nextpage.click()\n",
    "time.sleep(1)\n",
    "# 有些文档是一部分一部分的展开，这时候就用try"
   ]
  },
  {
   "cell_type": "code",
   "execution_count": null,
   "metadata": {
    "collapsed": true
   },
   "outputs": [],
   "source": []
  }
 ],
 "metadata": {
  "anaconda-cloud": {},
  "kernelspec": {
   "display_name": "Python [default]",
   "language": "python",
   "name": "python3"
  },
  "language_info": {
   "codemirror_mode": {
    "name": "ipython",
    "version": 3
   },
   "file_extension": ".py",
   "mimetype": "text/x-python",
   "name": "python",
   "nbconvert_exporter": "python",
   "pygments_lexer": "ipython3",
   "version": "3.5.2"
  }
 },
 "nbformat": 4,
 "nbformat_minor": 1
}
