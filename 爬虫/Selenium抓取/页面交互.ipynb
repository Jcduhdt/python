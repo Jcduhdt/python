{
 "cells": [
  {
   "cell_type": "code",
   "execution_count": 1,
   "metadata": {
    "collapsed": true
   },
   "outputs": [],
   "source": [
    "from selenium import webdriver\n",
    "from selenium.webdriver.common.keys import Keys"
   ]
  },
  {
   "cell_type": "code",
   "execution_count": 2,
   "metadata": {
    "collapsed": true
   },
   "outputs": [],
   "source": [
    "# 实现鼠标点击\n",
    "# find_element_by_xpath()找到元素位置，然后使用click()触发鼠标左键单击事件\n",
    "# 但是单击前最好把窗口滑到按键上方的一个元素位置\n",
    "# elem = driver.find_elements_by_xpath(\"//a[@data-fun='next']\")\n",
    "# ele.click()\n",
    "\n",
    "# 将窗口滑到page这个位置\n",
    "# page = driver.finf_elements_by_xpath(\"//div[@class='page]\")\n",
    "# drive.execute_script(['argument[0].scrolllntoView();',page(-1)])  拖到可见元素去"
   ]
  },
  {
   "cell_type": "code",
   "execution_count": 3,
   "metadata": {
    "collapsed": false
   },
   "outputs": [
    {
     "name": "stderr",
     "output_type": "stream",
     "text": [
      "D:\\Anaconda3\\lib\\site-packages\\ipykernel\\__main__.py:5: DeprecationWarning: use options instead of chrome_options\n"
     ]
    }
   ],
   "source": [
    "# 更改 User-Agent\n",
    "# 这里使用的是android的User-Agent\n",
    "options = webdriver.ChromeOptions()\n",
    "options.add_argument('user-agent=\"Mozilla/5.0 (Linux; Android 4.0.4; Galaxy Nexus Build/IMM76B) AppleWebKit/535.19 (KHTML, like Gecko) Chrome/18.0.1025.133 Mobile Safari/535.19\"')\n",
    "driver = webdriver.Chrome(chrome_options = options)\n",
    "driver.get(\"http://www.baidu.com\")"
   ]
  },
  {
   "cell_type": "code",
   "execution_count": null,
   "metadata": {
    "collapsed": true
   },
   "outputs": [],
   "source": []
  }
 ],
 "metadata": {
  "kernelspec": {
   "display_name": "Python [default]",
   "language": "python",
   "name": "python3"
  },
  "language_info": {
   "codemirror_mode": {
    "name": "ipython",
    "version": 3
   },
   "file_extension": ".py",
   "mimetype": "text/x-python",
   "name": "python",
   "nbconvert_exporter": "python",
   "pygments_lexer": "ipython3",
   "version": "3.5.2"
  }
 },
 "nbformat": 4,
 "nbformat_minor": 1
}
