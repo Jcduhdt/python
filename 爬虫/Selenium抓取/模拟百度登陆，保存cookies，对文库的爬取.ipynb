{
 "cells": [
  {
   "cell_type": "code",
   "execution_count": null,
   "metadata": {
    "collapsed": true
   },
   "outputs": [],
   "source": [
    "from selenium import webdriver\n",
    "from selenium.webdriver.common.keys import Keys\n",
    "import time"
   ]
  },
  {
   "cell_type": "code",
   "execution_count": null,
   "metadata": {
    "collapsed": true
   },
   "outputs": [],
   "source": [
    "driver = webdriver.Chrome()\n",
    "driver.get('http://www.baidu.com')\n",
    "driver.maximize_window()\n",
    "time.sleep(1)"
   ]
  },
  {
   "cell_type": "code",
   "execution_count": null,
   "metadata": {
    "collapsed": true
   },
   "outputs": [],
   "source": [
    "# 找到百度登陆的元素进行点击\n",
    "result = driver.find_element_by_link_text('登录')\n",
    "result.click()\n",
    "time.sleep(1)"
   ]
  },
  {
   "cell_type": "code",
   "execution_count": null,
   "metadata": {
    "collapsed": false
   },
   "outputs": [],
   "source": [
    "# 转到账户登录\n",
    "res = driver.find_element_by_xpath(\"//p[@data-type='normal']\")\n",
    "res.click()\n",
    "time.sleep(1)"
   ]
  },
  {
   "cell_type": "code",
   "execution_count": null,
   "metadata": {
    "collapsed": false
   },
   "outputs": [],
   "source": [
    "# 输入账户\n",
    "print('Please input your User_Name!')\n",
    "name = input(\"> \")\n",
    "elem = driver.find_element_by_name('userName')\n",
    "elem.send_keys(name)\n",
    "time.sleep(1)"
   ]
  },
  {
   "cell_type": "code",
   "execution_count": null,
   "metadata": {
    "collapsed": false
   },
   "outputs": [],
   "source": [
    "# 输入密码\n",
    "print('Please input your Password!')\n",
    "password = input(\"> \")\n",
    "elem1 = driver.find_element_by_name('password')\n",
    "elem1.send_keys(password)\n",
    "time.sleep(1)"
   ]
  },
  {
   "cell_type": "code",
   "execution_count": null,
   "metadata": {
    "collapsed": false
   },
   "outputs": [],
   "source": [
    "# 点击登录\n",
    "sub = driver.find_element_by_xpath(\"//input[@id='TANGRAM__PSP_10__submit']\")\n",
    "sub.click()\n",
    "time.sleep(1)"
   ]
  },
  {
   "cell_type": "code",
   "execution_count": null,
   "metadata": {
    "collapsed": true
   },
   "outputs": [],
   "source": [
    "# 获取cookies，保持登录状态\n",
    "# 保证一直已登录状态浏览网页数据\n",
    "cookie_list = driver.get_cookies()\n",
    "\n",
    "for i in cookie_list:\n",
    "    driver.add_cookie(i)\n",
    "time.sleep(4)"
   ]
  },
  {
   "cell_type": "code",
   "execution_count": null,
   "metadata": {
    "collapsed": true
   },
   "outputs": [],
   "source": [
    "# 保持登陆转到百度文库\n",
    "driver.get('https://wenku.baidu.com')\n",
    "time.sleep(2)"
   ]
  },
  {
   "cell_type": "code",
   "execution_count": null,
   "metadata": {
    "collapsed": true
   },
   "outputs": [],
   "source": [
    "# 找到输入的元素并写入要搜索内容\n",
    "keyboard = driver.find_element_by_id('kw')\n",
    "keyboard.send_keys('电子战')\n",
    "time.sleep(2)"
   ]
  },
  {
   "cell_type": "code",
   "execution_count": null,
   "metadata": {
    "collapsed": false
   },
   "outputs": [],
   "source": [
    "# 点击搜索\n",
    "search = driver.find_element_by_id('sb')\n",
    "search.click()\n",
    "time.sleep(1)"
   ]
  },
  {
   "cell_type": "code",
   "execution_count": null,
   "metadata": {
    "collapsed": false
   },
   "outputs": [],
   "source": [
    "# 页面跳转后有一个 知道了 的按钮需要点\n",
    "trouble = driver.find_element_by_xpath(\"//span[@class='btn-know']\")\n",
    "trouble.click()\n",
    "time.sleep(1)\n",
    "# 后面本来是在该页面选取我想要的一个文章，但是几次搜索后，该文章会出现在\n",
    "# 另一页面，就是每页显示的文章会变动，所以我删掉了，直接url"
   ]
  },
  {
   "cell_type": "code",
   "execution_count": null,
   "metadata": {
    "collapsed": false
   },
   "outputs": [],
   "source": [
    "# 获取当前页面所有文档标签\n",
    "# * 表示任意，xpath中可用\n",
    "articals = driver.find_elements_by_xpath(\"//div[@class='search-result']/dl[*]/dt/p[1]/a\")\n",
    "for a in articals:\n",
    "    print(a.get_attribute('href'))\n",
    "    print(a.get_attribute('title'))"
   ]
  },
  {
   "cell_type": "code",
   "execution_count": null,
   "metadata": {
    "collapsed": true
   },
   "outputs": [],
   "source": [
    "# 点击获取下一页，但是为什么不用移动页面\n",
    "# 是本来就不需要移动页面吗\n",
    "# 只有要点击的元素被广告啊，其他遮住的时候需要移动？感觉像\n",
    "# next_page = driver.find_element_by_class_name('next')\n",
    "# next_page.click()\n",
    "# time.sleep(2)\n",
    "# driver.back()"
   ]
  },
  {
   "cell_type": "code",
   "execution_count": null,
   "metadata": {
    "collapsed": false
   },
   "outputs": [],
   "source": [
    "# 想改变查看的文章时 还要回到获取href 和 title的那个cell 重新运行\n",
    "# 因为后面似乎articals这个东西就没有了\n",
    "artical = articals[5].get_attribute('href')\n",
    "art_name = articals[5].get_attribute('title')\n",
    "driver.get(artical)"
   ]
  },
  {
   "cell_type": "code",
   "execution_count": null,
   "metadata": {
    "collapsed": true
   },
   "outputs": [],
   "source": [
    "page = driver.find_element_by_xpath(\"//div[@class='banner-core-wrap super-vip']\")\n",
    "driver.execute_script(\"arguments[0].scrollIntoView()\",page)\n",
    "time.sleep(1)"
   ]
  },
  {
   "cell_type": "code",
   "execution_count": null,
   "metadata": {
    "collapsed": false
   },
   "outputs": [],
   "source": [
    "more = driver.find_elements_by_xpath(\"//span[@class='moreBtn goBtn']\")\n",
    "more[0].click()\n",
    "time.sleep(2)"
   ]
  },
  {
   "cell_type": "code",
   "execution_count": null,
   "metadata": {
    "collapsed": false
   },
   "outputs": [],
   "source": [
    "# 大问题\n",
    "# 这个获取的内容不全似乎只能覆盖文库的3页内容\n",
    "# 随着滚动条位置的不同，得到的也是不同区域的内容\n",
    "div_text = driver.find_elements_by_class_name('ie-fix')\n",
    "for temp in div_text:\n",
    "    text = temp.text\n",
    "    file.write('text')\n",
    "    print(text)"
   ]
  },
  {
   "cell_type": "code",
   "execution_count": null,
   "metadata": {
    "collapsed": false
   },
   "outputs": [],
   "source": [
    "# 百度文库似乎是什么异步加载吗\n",
    "# 直接搜索那个模块就是返回代码\n",
    "# 爬取有困难"
   ]
  },
  {
   "cell_type": "code",
   "execution_count": null,
   "metadata": {
    "collapsed": true
   },
   "outputs": [],
   "source": [
    "# driver.quit()"
   ]
  },
  {
   "cell_type": "code",
   "execution_count": null,
   "metadata": {
    "collapsed": false
   },
   "outputs": [],
   "source": [
    "# driver.back()"
   ]
  },
  {
   "cell_type": "code",
   "execution_count": null,
   "metadata": {
    "collapsed": true
   },
   "outputs": [],
   "source": []
  }
 ],
 "metadata": {
  "anaconda-cloud": {},
  "kernelspec": {
   "display_name": "Python [default]",
   "language": "python",
   "name": "python3"
  },
  "language_info": {
   "codemirror_mode": {
    "name": "ipython",
    "version": 3
   },
   "file_extension": ".py",
   "mimetype": "text/x-python",
   "name": "python",
   "nbconvert_exporter": "python",
   "pygments_lexer": "ipython3",
   "version": "3.5.2"
  }
 },
 "nbformat": 4,
 "nbformat_minor": 1
}
