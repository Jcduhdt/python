{
 "cells": [
  {
   "cell_type": "code",
   "execution_count": 1,
   "metadata": {
    "collapsed": true
   },
   "outputs": [],
   "source": [
    "from selenium import webdriver\n",
    "from selenium.webdriver.common.keys import Keys\n",
    "import time"
   ]
  },
  {
   "cell_type": "code",
   "execution_count": 2,
   "metadata": {
    "collapsed": false
   },
   "outputs": [],
   "source": [
    "driver = webdriver.Chrome()\n",
    "driver.get('http://www.csdn.net')"
   ]
  },
  {
   "cell_type": "code",
   "execution_count": 3,
   "metadata": {
    "collapsed": false
   },
   "outputs": [],
   "source": [
    "'''\n",
    "上下滑动\n",
    "js = \"var q=document.documentElement.scrollTop = 500\" \n",
    "意思是界面位于距顶部500的位置，单位是啥我也不知道。像素？\n",
    "0 就是顶部  10000就是底部\n",
    "'''\n",
    "for i in range(10):\n",
    "    j = i*100\n",
    "    js = \"var q=document.documentElement.scrollTop = %s\"% j\n",
    "    driver.execute_script(js)\n",
    "    time.sleep(1)"
   ]
  },
  {
   "cell_type": "code",
   "execution_count": 4,
   "metadata": {
    "collapsed": true
   },
   "outputs": [],
   "source": [
    "'''\n",
    "左右滑动\n",
    "Top改成Left就行，就是据最左的距离\n",
    "'''\n",
    "js = \"var q=document.documentElement.scrollLeft = 200\"\n",
    "driver.execute_script(js)\n",
    "time.sleep(2)"
   ]
  },
  {
   "cell_type": "code",
   "execution_count": 5,
   "metadata": {
    "collapsed": false
   },
   "outputs": [],
   "source": [
    "'''\n",
    "拖到指定元素位置\n",
    "'''\n",
    "#elem = driver.find_element_by_name('username')\n",
    "#driver.execute_script(\"arguments[0].scrollIntoView();\",elem)\n",
    "\n",
    "# (横，纵)，即窗口绝对像素位置\n",
    "js = \"window.scrollTo(100,1600)\"\n",
    "driver.execute_script(js)\n",
    "time.sleep(2)"
   ]
  },
  {
   "cell_type": "code",
   "execution_count": 6,
   "metadata": {
    "collapsed": false
   },
   "outputs": [],
   "source": [
    "driver.quit()"
   ]
  }
 ],
 "metadata": {
  "anaconda-cloud": {},
  "kernelspec": {
   "display_name": "Python [default]",
   "language": "python",
   "name": "python3"
  },
  "language_info": {
   "codemirror_mode": {
    "name": "ipython",
    "version": 3
   },
   "file_extension": ".py",
   "mimetype": "text/x-python",
   "name": "python",
   "nbconvert_exporter": "python",
   "pygments_lexer": "ipython3",
   "version": "3.5.2"
  }
 },
 "nbformat": 4,
 "nbformat_minor": 1
}
