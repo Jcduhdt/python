{
 "cells": [
  {
   "cell_type": "code",
   "execution_count": 1,
   "metadata": {
    "collapsed": true
   },
   "outputs": [],
   "source": [
    "# 特别慢， 网页加载完全要会时间\n",
    "from selenium import webdriver\n",
    "# 不知道为什么之前导入keys这个模块会有问题， 打错了？ 没道理啊\n",
    "from selenium.webdriver.common.keys import Keys"
   ]
  },
  {
   "cell_type": "code",
   "execution_count": 2,
   "metadata": {
    "collapsed": false
   },
   "outputs": [],
   "source": [
    "driver = webdriver.Chrome('D:\\chromedriver\\chromedriver.exe')\n",
    "# 打开请求的url，webdriver会等待页面完全加载（JS渲染完毕）才会返回继续往下执行\n",
    "driver.get('http://www.python.org')\n",
    "assert \"Python\" in driver.title\n",
    "# 寻找网页元素 find_element_by_* 这里寻找name属性\n",
    "# 看了下网页源码，输入那里确实是name='q'\n",
    "elem = driver.find_element_by_name('q')\n",
    "# Keys这个类模拟键盘输入\n",
    "elem.send_keys('pycon')\n",
    "# Keys.RETURN是什么意思不太懂\n",
    "elem.send_keys(Keys.RETURN)\n",
    "# 输出page_source属性获取网页渲染后的源代码\n",
    "print(driver.page_source)"
   ]
  },
  {
   "cell_type": "code",
   "execution_count": null,
   "metadata": {
    "collapsed": true
   },
   "outputs": [],
   "source": []
  }
 ],
 "metadata": {
  "anaconda-cloud": {},
  "kernelspec": {
   "display_name": "Python [default]",
   "language": "python",
   "name": "python3"
  },
  "language_info": {
   "codemirror_mode": {
    "name": "ipython",
    "version": 3
   },
   "file_extension": ".py",
   "mimetype": "text/x-python",
   "name": "python",
   "nbconvert_exporter": "python",
   "pygments_lexer": "ipython3",
   "version": "3.5.2"
  }
 },
 "nbformat": 4,
 "nbformat_minor": 1
}
